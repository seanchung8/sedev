{
 "metadata": {
  "name": "",
  "signature": "sha256:6a19ea0ef3ede032c6f6209911a2e973c909d57b53cc3385dc1f55980a76c9e8"
 },
 "nbformat": 3,
 "nbformat_minor": 0,
 "worksheets": [
  {
   "cells": [
    {
     "cell_type": "code",
     "collapsed": false,
     "input": [
      "object SchemaUtils {\n",
      "\n",
      "  def int  (s:String):Option[Int]     = if (isValid(s)) parseInt(s)   else None\n",
      "  def float(s:String):Option[Float]   = if (isValid(s)) parseFloat(s) else None\n",
      "  def str  (s:String):Option[String]  = if (isValid(s)) Option(s)     else None\n",
      "  def bool (s:String):Option[Boolean] = if (isValid(s)) parseBool(s)  else None\n",
      "\n",
      "  def parseInt(s:String):Option[Int] =\n",
      "    try { Option(s.trim().toInt) } catch {\n",
      "      case e:NumberFormatException => None\n",
      "    }\n",
      "\n",
      "  def parseFloat(s:String):Option[Float] =\n",
      "    try { Option(s.trim().toFloat) } catch {\n",
      "      case e:NumberFormatException => None\n",
      "    }\n",
      "\n",
      "  def parseBool(s:String):Option[Boolean] = s.trim().toLowerCase match {\n",
      "    case \"true\"|\"yes\"|\"1\" => Option(true)\n",
      "    case \"false\"|\"no\"|\"0\" => Option(false)\n",
      "    case _ => None\n",
      "  }\n",
      "\n",
      "  def isNA(s:String) = s==null || s.isEmpty || (s.trim.toLowerCase match {\n",
      "    case \"na\" => true\n",
      "    case \"n/a\"=> true\n",
      "    case _ => false\n",
      "  })\n",
      "\n",
      "  def isValid(s:String) = !isNA(s)\n",
      "\n",
      "  //def na[S]:S = null.asInstanceOf[S]\n",
      "  //def na[S]:Option[S] = None\n",
      "}\n"
     ],
     "language": "python",
     "metadata": {},
     "outputs": [
      {
       "output_type": "stream",
       "stream": "stdout",
       "text": []
      },
      {
       "output_type": "stream",
       "stream": "stderr",
       "text": []
      },
      {
       "metadata": {},
       "output_type": "pyout",
       "prompt_number": 15,
       "text": [
        "$iwC$$iwC$$iwC$$iwC$SchemaUtils$@175e40f7"
       ]
      }
     ],
     "prompt_number": 15
    },
    {
     "cell_type": "code",
     "collapsed": false,
     "input": [
      "//\n",
      "// We can't use a case class here because we have more than 22 variables\n",
      "//\n",
      "class Flight(\n",
      "  year          :Option[Int],    // 0\n",
      "  month         :Option[Int],    // 1\n",
      "  dayOfMonth    :Option[Int],    // 2\n",
      "  dayOfWeek     :Option[Int],    // 3\n",
      "  depTime       :Option[Int],    // 4\n",
      "  crsDepTime    :Option[Int],    // 5\n",
      "  arrTime       :Option[Int],    // 6\n",
      "  crsArrTime    :Option[Int],    // 7\n",
      "  uniqueCarrier :Option[String], // 8\n",
      "  flightNum     :Option[Int],    // 9\n",
      "  tailNum       :Option[Int],    // 10\n",
      "  elapsedTime   :Option[Int],    // 11\n",
      "  crsElapsedTime:Option[Int],    // 12\n",
      "  airTime       :Option[Int],    // 13\n",
      "  arrDelay      :Option[Int],    // 14\n",
      "  depDelay      :Option[Int],    // 15\n",
      "  origin        :Option[String], // 16\n",
      "  dest          :Option[String], // 17\n",
      "  distance      :Option[Int],    // 18\n",
      "  taxiIn        :Option[Int],    // 19\n",
      "  taxiOut       :Option[Int],    // 20\n",
      "  cancelled     :Option[Boolean],    // 21\n",
      "  cancellationCode :Option[String],// 22\n",
      "  diverted      :Option[Int],    // 23\n",
      "  carrierDelay  :Option[Int],    // 24\n",
      "  weatherDelay  :Option[Int],    // 25\n",
      "  nasDelay      :Option[Int],    // 26\n",
      "  securityDelay :Option[Int],    // 27\n",
      "  lateAircraftDelay :Option[Int] // 28\n",
      ") extends Product {\n",
      "\n",
      "  @throws(classOf[IndexOutOfBoundsException])\n",
      "  override def productElement(n: Int) = n match {\n",
      "    case 0 => year\n",
      "    case 1 => month\n",
      "    case 2 => dayOfMonth\n",
      "    case 3 => dayOfWeek\n",
      "    case 4 => depTime\n",
      "    case 5 => crsDepTime\n",
      "    case 6 => arrTime\n",
      "    case 7 => crsArrTime\n",
      "    case 8 => uniqueCarrier\n",
      "    case 9 => flightNum\n",
      "    case 10 => tailNum\n",
      "    case 11 => elapsedTime\n",
      "    case 12 => crsElapsedTime\n",
      "    case 13 => airTime\n",
      "    case 14 => arrDelay\n",
      "    case 15 => depDelay\n",
      "    case 16 => origin\n",
      "    case 17 => dest\n",
      "    case 18 => distance\n",
      "    case 19 => taxiIn\n",
      "    case 20 => taxiOut\n",
      "    case 21 => cancelled\n",
      "    case 22 => cancellationCode\n",
      "    case 23 => diverted\n",
      "    case 24 => carrierDelay\n",
      "    case 25 => weatherDelay\n",
      "    case 26 => nasDelay\n",
      "    case 27 => securityDelay\n",
      "    case 28 => lateAircraftDelay\n",
      "    case _ => throw new IndexOutOfBoundsException(n.toString())\n",
      "  }\n",
      "\n",
      "  override def productArity: Int = 29\n",
      "  override def canEqual(that: Any): Boolean = that.isInstanceOf[Flight]\n",
      "}\n",
      "\n",
      "// This helps to hide the complexity of passing a long constructor in the map function\n",
      "// object FlightParser extends Parser[Flight] {\n",
      "object FlightParser extends Serializable {\n",
      "  import SchemaUtils.{int,float,bool,str}\n",
      "  def apply(r: Array[String]) = {\n",
      "    val f = new Flight(\n",
      "      int(r(0)), int(r(1)), int(r(2)), int(r(3)), int(r(4)),\n",
      "      int(r(5)), int(r(6)), int(r(7)), str(r(8)), int(r(9)),\n",
      "      int(r(10)), int(r(11)), int(r(12)), int(r(13)), int(r(14)),\n",
      "      int(r(15)), str(r(16)), str(r(17)), int(r(18)), int(r(19)),\n",
      "      int(r(20)), bool(r(21)), str(r(22)), int(r(23)), int(r(24)),\n",
      "      int(r(25)), int(r(26)), int(r(27)), int(r(28)))\n",
      "    f\n",
      "  }\n",
      "}"
     ],
     "language": "python",
     "metadata": {},
     "outputs": [
      {
       "output_type": "stream",
       "stream": "stderr",
       "text": []
      },
      {
       "output_type": "stream",
       "stream": "stdout",
       "text": []
      },
      {
       "metadata": {},
       "output_type": "pyout",
       "prompt_number": 16,
       "text": [
        "$iwC$$iwC$FlightParser$@10e5ff5a"
       ]
      }
     ],
     "prompt_number": 16
    },
    {
     "cell_type": "code",
     "collapsed": false,
     "input": [
      "import org.apache.spark._\n",
      "import org.apache.spark.sql.SQLContext;\n",
      " \n",
      "val sqlContext = new SQLContext(sc)\n",
      "val flightParser = FlightParser\n",
      "\n",
      "val flightDataText = sc.textFile(\"airline/delay/2007.csv\")\n",
      "val flightData = flightDataText\n",
      "     .map(_.split(\",\"))\n",
      "     .map(row => flightParser(row))\n",
      "val flights = sqlContext.createSchemaRDD(flightData)\n",
      "flights.registerTempTable(\"flights\")\n",
      "\n",
      "// Select flights that were not canceled and originated at ORD\n",
      "val interestingFlights = sqlContext.sql(\"SELECT year, month, dayOfMonth, dayOfWeek, uniqueCarrier, origin, dest, distance, depTime, depDelay FROM flights WHERE origin = 'ORD' AND cancelled = false\")\n",
      "\n",
      "//   interestingFlights.coalesce(1).saveAsTextFile(\"/tmp/interestingFlights\")\n",
      "\n",
      "val totalFlights = flights.count\n",
      "val ORDFlights = interestingFlights.count\n",
      "println(\"Total flights: \" + totalFlights)\n",
      "println(\"Flights to ORD: \" + ORDFlights)\n"
     ],
     "language": "python",
     "metadata": {},
     "outputs": [
      {
       "output_type": "stream",
       "stream": "stdout",
       "text": []
      },
      {
       "ename": "org.apache.spark.SparkException",
       "evalue": "Task not serializable",
       "output_type": "pyerr",
       "traceback": [
        "org.apache.spark.SparkException: Task not serializable",
        "    org.apache.spark.util.ClosureCleaner$.ensureSerializable(ClosureCleaner.scala:166)",
        "    org.apache.spark.util.ClosureCleaner$.clean(ClosureCleaner.scala:158)",
        "    org.apache.spark.SparkContext.clean(SparkContext.scala:1242)",
        "    org.apache.spark.rdd.RDD.map(RDD.scala:270)"
       ]
      },
      {
       "output_type": "stream",
       "stream": "stderr",
       "text": []
      }
     ],
     "prompt_number": 19
    },
    {
     "cell_type": "code",
     "collapsed": false,
     "input": [],
     "language": "python",
     "metadata": {},
     "outputs": [],
     "prompt_number": 4
    },
    {
     "cell_type": "code",
     "collapsed": false,
     "input": [],
     "language": "python",
     "metadata": {},
     "outputs": []
    }
   ],
   "metadata": {}
  }
 ]
}