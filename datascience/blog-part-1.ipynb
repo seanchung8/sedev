{
 "metadata": {
  "name": "",
  "signature": "sha256:0d32af037f9f2838ef0b9677031b0b39368667ffcb07097fbcab776d3cc273f8"
 },
 "nbformat": 3,
 "nbformat_minor": 0,
 "worksheets": [
  {
   "cells": [
    {
     "cell_type": "heading",
     "level": 1,
     "metadata": {},
     "source": [
      "Data Science with Hadoop"
     ]
    },
    {
     "cell_type": "heading",
     "level": 1,
     "metadata": {},
     "source": [
      "Building a predictive model for airline delays"
     ]
    },
    {
     "cell_type": "markdown",
     "metadata": {},
     "source": [
      "With the rapid adoption of Hadoop in the enterprise, machine learning is becoming a key technology used by organizations to extract tangible business value from their massive data assets. \n",
      "\n",
      "It is a common misconception that the way we apply predictive learning algorithms like Linear Regression, Random Forest or neural networks to large datasets requires a dramatic change in approach or tooling. In fact, the big change is in what is known as \u201cfeature engineering\u201d \u2013 the process by which very big raw data is transformed into a \u201cfeature matrix\u201d. It is very common to have very large datasets of raw data (terabytes or petabytes), and Hadoop is an ideal platform for this type of  processing.\n",
      "\n",
      "The output of feature engineering step (the feature matrix) tends to be much smaller, typically in the 2-20GB range. Thus, a common choice is to run the learning algorithm on a single machine (often with multiple cores and high amount of RAM), allowing us to utilize a plethora of existing robust tools and algorithms from R, Python, or SAS."
     ]
    },
    {
     "cell_type": "markdown",
     "metadata": {},
     "source": [
      "Every year approximately 20% of airline flights are delayed or cancelled, resulting in significant costs to both travellers and airlines. In this multiple part blog post we will walk through an example supervised learning problem: predicting airline delay from historial flight data and weather information. \n",
      "\n",
      "<img src=http://venturevillage.eu/wp-content/uploads/2013/02/Flight-delays.jpeg>\n",
      "\n",
      "In this first part, we will show how to do this using PIG and Python's excellent scikit-learn machine learning package. In subsequent parts we will demonstrate how to use Spark, MLLib and R to perform similar analysis. \n",
      "\n",
      "Let's begin by exploring the airline delay dataset available here:  http://stat-computing.org/dataexpo/2009/the-data.html\n",
      "This dataset includes details about flights in the US from the years 1987-2008. \n",
      "\n",
      "To simplify, we will build a supervised learning model to predict flight delays for flights leaving O'Hare International airport (ORD). We will use the year 2007 data to build the model, and test it's validity using data from 2008.\n",
      "\n",
      "First, we have to do some imports (like Scikit-learn, numpy, and pandas)."
     ]
    },
    {
     "cell_type": "code",
     "collapsed": false,
     "input": [
      "# Python library imports: numpy, random, sklearn, pandas, etc\n",
      "\n",
      "import warnings\n",
      "warnings.filterwarnings('ignore')\n",
      "\n",
      "import random\n",
      "import numpy as np\n",
      "\n",
      "from sklearn import linear_model, cross_validation, metrics, svm\n",
      "from sklearn.metrics import confusion_matrix, precision_recall_fscore_support, accuracy_score\n",
      "from sklearn.ensemble import RandomForestClassifier\n",
      "from sklearn.preprocessing import StandardScaler\n",
      "\n",
      "import pandas as pd\n",
      "import matplotlib.pyplot as plt\n",
      "%matplotlib inline"
     ],
     "language": "python",
     "metadata": {},
     "outputs": [],
     "prompt_number": 1
    },
    {
     "cell_type": "markdown",
     "metadata": {},
     "source": [
      "We now define a utility function to read an HDFS file into a Pandas dataframe using Pydoop. Pydoop's hdfs.open() function reads a single file from HDFS. since many HDFS files are actually multi-part files, our read_csv_from_hdfs() function uses hdfs.ls() to grab all the needed file names, and then read each one separately. Finally, it concatenates the resulting Pandas dataframes of each file into a final dataframe."
     ]
    },
    {
     "cell_type": "code",
     "collapsed": false,
     "input": [
      "# function to read HDFS file into dataframe using PyDoop\n",
      "import pydoop.hdfs as hdfs\n",
      "def read_csv_from_hdfs(path, cols, col_types=None):\n",
      "  files = hdfs.ls(path);\n",
      "  pieces = []\n",
      "  for f in files:\n",
      "    pieces.append(pd.read_csv(hdfs.open(f), names=cols, dtype=col_types))\n",
      "  return pd.concat(pieces, ignore_index=True)"
     ],
     "language": "python",
     "metadata": {},
     "outputs": [],
     "prompt_number": 2
    },
    {
     "cell_type": "markdown",
     "metadata": {},
     "source": [
      "First, let's read the raw delay file from HDFS into a Pandas dataframe. We use our utility function read_csv_from_hdfs() and provide it with column names since this is a raw file, not a HIVE table with meta-data. Let's see how it works:"
     ]
    },
    {
     "cell_type": "code",
     "collapsed": false,
     "input": [
      "# read 2007 year file\n",
      "cols = ['year', 'month', 'day', 'dow', 'DepTime', 'CRSDepTime', 'ArrTime', 'CRSArrTime', 'Carrier', 'FlightNum', \n",
      "        'TailNum', 'ActualElapsedTime', 'CRSElapsedTime', 'AirTime', 'ArrDelay', 'DepDelay', 'Origin', 'Dest', \n",
      "        'Distance', 'TaxiIn', 'TaxiOut', 'Cancelled', 'CancellationCode', 'Diverted', 'CarrierDelay', \n",
      "        'WeatherDelay', 'NASDelay', 'SecurityDelay', 'LateAircraftDelay'];\n",
      "flt_2007 = read_csv_from_hdfs('airline/delay/2007.csv', cols)\n",
      "\n",
      "flt_2007.shape"
     ],
     "language": "python",
     "metadata": {},
     "outputs": [
      {
       "metadata": {},
       "output_type": "pyout",
       "prompt_number": 4,
       "text": [
        "(7453216, 29)"
       ]
      }
     ],
     "prompt_number": 4
    },
    {
     "cell_type": "markdown",
     "metadata": {},
     "source": [
      "We see 7.4M+ flights in 2007 and 29 variables.\n",
      "\n",
      "Our \"target\" variable will be DepDelay (departure delay in minutes). To build a classifier, we further refine our target variable into a binary variable by defining a \"delay\" as having 15 mins or more of delay, and \"non-delay\" otherwise.\n",
      "\n",
      "Let's look at possible predictive variables for our model:\n",
      "- month: winter months should have more delays than summer months\n",
      "- day of month: this is likely not a very predictive variable, but let's keep it in anyway\n",
      "- day of week: weekend vs. weekday\n",
      "- Carrier: we might expect some carriers to be more prone to delays than others\n",
      "- Dest: we expect some airports to be more prone to delays than others\n",
      "- Distance: interesting to see if this variable is a good predictor of delay\n",
      "\n",
      "Note that we won't use many other variables such as TaxiIn, TaxiOut or SecurityDelay since they cannot be used ahead of time for prediction.\n",
      "\n",
      "Now let's look at airports. Our intuition tells us that some airports are worse than others. Let's see which destination airports have the most delays for 2007 for flights originating from ORD:"
     ]
    },
    {
     "cell_type": "code",
     "collapsed": false,
     "input": [
      "# Select a Pandas dataframe with flight originating from ORD\n",
      "df = flt_2007[flt_2007['Origin']=='ORD'].dropna(subset=['DepDelay'])\n",
      "df['DepDelay'] = df[['DepDelay']].apply(lambda x: x>=15)\n",
      "\n",
      "# Compute number of delayed flights per destination airport\n",
      "grouped = df[['DepDelay', 'Dest']].groupby('Dest').sum()\n",
      "dest = grouped.sort(['DepDelay'], ascending=False)\n",
      "\n",
      "# Print top 10 destination airports by delay, and graph it as well\n",
      "print dest[:10]\n",
      "dest[:10].plot(kind='bar')"
     ],
     "language": "python",
     "metadata": {},
     "outputs": [
      {
       "output_type": "stream",
       "stream": "stdout",
       "text": [
        "      DepDelay\n",
        "Dest          \n",
        "LGA       3781\n",
        "EWR       3044\n",
        "MSP       2756\n",
        "DFW       2565\n",
        "LAX       2473\n",
        "PHL       2189\n",
        "BOS       2089\n",
        "DTW       1971\n",
        "CLT       1907\n",
        "DEN       1869\n"
       ]
      },
      {
       "metadata": {},
       "output_type": "pyout",
       "prompt_number": 3,
       "text": [
        "<matplotlib.axes._subplots.AxesSubplot at 0x7fe99db59b10>"
       ]
      },
      {
       "metadata": {},
       "output_type": "display_data",
       "png": "[encoded data removed]",
       "text": [
        "<matplotlib.figure.Figure at 0x7fe99db59650>"
       ]
      }
     ],
     "prompt_number": 3
    },
    {
     "cell_type": "markdown",
     "metadata": {},
     "source": [
      "Similarly, some carriers are notorious for delays.\n",
      "Let's see who those are..."
     ]
    },
    {
     "cell_type": "code",
     "collapsed": false,
     "input": [
      "# Compute number of delayed flights per carrier\n",
      "grouped = df[['DepDelay', 'Carrier']].groupby('Carrier').sum()\n",
      "carrier = grouped.sort(['DepDelay'], ascending=False)\n",
      "\n",
      "# Print top 5 destination carriers by delay (from ORD), and graph it as well\n",
      "print carrier[:5]\n",
      "carrier[:15].plot(kind='bar')"
     ],
     "language": "python",
     "metadata": {},
     "outputs": [
      {
       "output_type": "stream",
       "stream": "stdout",
       "text": [
        "         DepDelay\n",
        "Carrier          \n",
        "UA          28388\n",
        "MQ          26305\n",
        "AA          23410\n",
        "OO          12810\n",
        "YV           9325\n"
       ]
      },
      {
       "metadata": {},
       "output_type": "pyout",
       "prompt_number": 4,
       "text": [
        "<matplotlib.axes._subplots.AxesSubplot at 0x7fe99f1d4750>"
       ]
      },
      {
       "metadata": {},
       "output_type": "display_data",
       "png": "[encoded data removed]",
       "text": [
        "<matplotlib.figure.Figure at 0x7fe99f1d46d0>"
       ]
      }
     ],
     "prompt_number": 4
    },
    {
     "cell_type": "markdown",
     "metadata": {},
     "source": [
      "Okay, so now let's look at the \"month\" variable. \n",
      "Do we see a correlation between winter months and higher occurent of delays?"
     ]
    },
    {
     "cell_type": "code",
     "collapsed": false,
     "input": [
      "# Compute number of delayed flights per month\n",
      "grouped = df[['DepDelay', 'month']].groupby('month').sum()\n",
      "\n",
      "# Print and plot delays by month\n",
      "print grouped\n",
      "grouped.plot(kind='bar')"
     ],
     "language": "python",
     "metadata": {},
     "outputs": [
      {
       "output_type": "stream",
       "stream": "stdout",
       "text": [
        "       DepDelay\n",
        "month          \n",
        "1         10100\n",
        "2         11316\n",
        "3         10389\n",
        "4          8875\n",
        "5          7010\n",
        "6          9491\n",
        "7          8711\n",
        "8         10348\n",
        "9          6195\n",
        "10         7093\n",
        "11         7060\n",
        "12        12758\n"
       ]
      },
      {
       "metadata": {},
       "output_type": "pyout",
       "prompt_number": 5,
       "text": [
        "<matplotlib.axes._subplots.AxesSubplot at 0x7fe99f1d4990>"
       ]
      },
      {
       "metadata": {},
       "output_type": "display_data",
       "png": "[encoded data removed]",
       "text": [
        "<matplotlib.figure.Figure at 0x7fe99db5b6d0>"
       ]
      }
     ],
     "prompt_number": 5
    },
    {
     "cell_type": "markdown",
     "metadata": {},
     "source": [
      "Looks like the assumption that winter months will see more delayed is incorrect. We see a pretty even distribution, with a lof of delays in Dec/Jan/Feb but also in June. Sep/Oct/Nov seem to have the least number of delays, so that leads us to believe month could contribute to the model though, but not as strongly as the original assumption."
     ]
    },
    {
     "cell_type": "heading",
     "level": 2,
     "metadata": {},
     "source": [
      "Pre-processing: using Hadoop to build a feature matrix"
     ]
    },
    {
     "cell_type": "markdown",
     "metadata": {},
     "source": [
      "After exploring the data for a bit, we now move to building the feature matrix for our predictive model. \n",
      "\n",
      "We use PIG to preprocess the raw data into a feature matrix with the variables we choose:\n",
      "- delay: minutes of delay\n",
      "- month, day, day-of-week, hour\n",
      "- distance: of flight in miles\n",
      "- bad_carrier: is this carrier in the list of top-5 delayed carrier\n",
      "- bad_dest: is this destination airport in the list of top-5 Origin airports with delays\n",
      "- days_from_holiday: distance in days from the closest national holiday\n",
      "\n",
      "We use PIG with simple Python UDFs."
     ]
    },
    {
     "cell_type": "markdown",
     "metadata": {},
     "source": [
      "```\n",
      "from datetime import date\n",
      "\n",
      "# get hour-of-day from HHMM field\n",
      "@outputSchema(\"value: int\")\n",
      "def get_hour(val):\n",
      "  return int(val.zfill(4)[:2])\n",
      "\n",
      "# this array defines the dates of holiday in 2007 and 2008\n",
      "holidays = [\n",
      "        date(2007, 1, 1), date(2007, 1, 15), date(2007, 2, 19), date(2007, 5, 28), date(2007, 6, 7), date(2007, 7, 4), \\\n",
      "        date(2007, 9, 3), date(2007, 10, 8), date(2007, 11, 11), date(2007, 11, 22), date(2007, 12, 25), \\\n",
      "        date(2008, 1, 1), date(2008, 1, 21), date(2008, 2, 18), date(2008, 5, 22), date(2008, 5, 26), date(2008, 7, 4), \\\n",
      "        date(2008, 9, 1), date(2008, 10, 13), date(2008, 11, 11), date(2008, 11, 27), date(2008, 12, 25) \\\n",
      "     ]\n",
      "\n",
      "# get number of days from nearest holiday\n",
      "@outputSchema(\"days: int\")\n",
      "def days_from_nearest_holiday(year, month, day):\n",
      "  d = date(year, month, day)\n",
      "  x = [(abs(d-h)).days for h in holidays]\n",
      "  return min(x)\n",
      "\n",
      "# is this a carrier with high number of delays?\n",
      "@outputSchema(\"is_bad_carrier: int\")\n",
      "def is_bad_carrier(carrier):\n",
      "  return 1 if (carrier in ['UA', 'MQ', 'AA']) else 0\n",
      "\n",
      "# is this a destination airport with high number of delays?\n",
      "@outputSchema(\"is_bad_dest: int\")\n",
      "def is_bad_dest(dest):\n",
      "  return 1 if (dest in ['LGA', 'EWR', 'MSP', 'DFW', 'LAX']) else 0\n",
      "\n",
      "```"
     ]
    },
    {
     "cell_type": "markdown",
     "metadata": {},
     "source": [
      "Our PIG script is relatively simple.\n",
      "1. Load the dataset (2007 or 2008) \n",
      "2. Filter out flights that were cancelled\n",
      "3. Project only variables that we want to use in the analysis \n",
      "4. Filter to flight originating in ORD\n",
      "5. Generate the output feature matrix, using the Python UDFs\n",
      "\n",
      "We can execute this script directly from IPython (the Python UDFs are separately stored in \"util.py\"):"
     ]
    },
    {
     "cell_type": "code",
     "collapsed": false,
     "input": [
      "%%script pig -4 log4j.warn --bg --err pig_out\n",
      "\n",
      "Register 'util.py' USING jython as util;\n",
      "DEFINE preprocess(year_str, airport_code) returns data\n",
      "{\n",
      "        -- load airline data from specified year (need to specify fields since it's not in HCat)\n",
      "        airline = load 'airline/delay/$year_str.csv' using PigStorage(',') \n",
      "            as (Year: int, Month: int, DayOfMonth: int, DayOfWeek: int, DepTime: chararray, \n",
      "                CRSDepTime, ArrTime, CRSArrTime, Carrier: chararray, FlightNum, TailNum, ActualElapsedTime, \n",
      "                CRSElapsedTime, AirTime, ArrDelay, DepDelay: int, Origin: chararray, Dest: chararray, Distance: int, \n",
      "                TaxiIn, TaxiOut, Cancelled: int, CancellationCode, Diverted, CarrierDelay, WeatherDelay, \n",
      "                NASDelay, SecurityDelay, LateAircraftDelay);\n",
      "\n",
      "        -- keep only instances where flight was not cancelled and originate at ORD\n",
      "        airline_flt = filter airline by Cancelled == 0 and Origin == '$airport_code';\n",
      "\n",
      "        -- Keep only fields I need\n",
      "        $data = foreach airline_flt generate DepDelay as delay, Month, DayOfMonth, DayOfWeek, \n",
      "                                             util.get_hour(DepTime) as hour, Distance,\n",
      "                                             util.is_bad_carrier(Carrier) as is_bad_carrier, \n",
      "                                             util.is_bad_dest(Dest) as is_bad_dest,\n",
      "                                             util.days_from_nearest_holiday(Year, Month, DayOfMonth) as hdays;\n",
      "};\n",
      "\n",
      "ORD_2007 = preprocess('2007', 'ORD');\n",
      "rmf airline/fm/ord_2007_1\n",
      "store ORD_2007 into 'airline/fm/ord_2007_1' using PigStorage(',');\n",
      "\n",
      "ORD_2008 = preprocess('2008', 'ORD');\n",
      "rmf airline/fm/ord_2008_1\n",
      "store ORD_2008 into 'airline/fm/ord_2008_1' using PigStorage(',');"
     ],
     "language": "python",
     "metadata": {},
     "outputs": [
      {
       "output_type": "stream",
       "stream": "stdout",
       "text": [
        "Starting job # 0 in a separate thread.\n"
       ]
      }
     ],
     "prompt_number": 6
    },
    {
     "cell_type": "markdown",
     "metadata": {},
     "source": [
      "Let's look at the output as the script continues to process..."
     ]
    },
    {
     "cell_type": "code",
     "collapsed": false,
     "input": [
      "while True:\n",
      "    line = pig_out.readline()\n",
      "    if not line: ## or 'INFO' in line:\n",
      "        break\n",
      "    sys.stdout.write(\"%s\" % line)\n",
      "    sys.stdout.flush()"
     ],
     "language": "python",
     "metadata": {},
     "outputs": [
      {
       "output_type": "stream",
       "stream": "stdout",
       "text": [
        "log4j:ERROR Could not find value for key log4j.appender.A\n"
       ]
      },
      {
       "output_type": "stream",
       "stream": "stdout",
       "text": [
        "log4j:ERROR Could not instantiate appender named \"A\".\n"
       ]
      },
      {
       "output_type": "stream",
       "stream": "stdout",
       "text": [
        "log4j:ERROR Could not find value for key log4j.appender.A\n"
       ]
      },
      {
       "output_type": "stream",
       "stream": "stdout",
       "text": [
        "log4j:ERROR Could not instantiate appender named \"A\".\n"
       ]
      },
      {
       "output_type": "stream",
       "stream": "stdout",
       "text": [
        "14/10/09 09:16:18 WARN jython.JythonScriptEngine: pig.cmd.args.remainders is empty. This is not expected unless on testing.\n"
       ]
      },
      {
       "output_type": "stream",
       "stream": "stdout",
       "text": [
        "14/10/09 09:16:37 WARN util.MRApps: cache file (mapreduce.job.cache.files) hdfs://ds-demo01.cloud.hortonworks.com:8020/tmp/temp-1463652427/tmp-1517700038/jython-standalone-2.5.3.jar conflicts with cache file (mapreduce.job.cache.files) hdfs://ds-demo01.cloud.hortonworks.com:8020/tmp/temp-1463652427/tmp1456220832/jython-standalone-2.5.3.jar This will be an error in Hadoop 2.0\n"
       ]
      },
      {
       "output_type": "stream",
       "stream": "stdout",
       "text": [
        "14/10/09 09:18:08 WARN mapReduceLayer.MapReduceLauncher: Encountered Warning FIELD_DISCARDED_TYPE_CONVERSION_FAILED 160755 time(s).\n"
       ]
      },
      {
       "output_type": "stream",
       "stream": "stdout",
       "text": [
        "14/10/09 09:18:22 WARN util.MRApps: cache file (mapreduce.job.cache.files) hdfs://ds-demo01.cloud.hortonworks.com:8020/tmp/temp-1463652427/tmp-940342613/jython-standalone-2.5.3.jar conflicts with cache file (mapreduce.job.cache.files) hdfs://ds-demo01.cloud.hortonworks.com:8020/tmp/temp-1463652427/tmp111460990/jython-standalone-2.5.3.jar This will be an error in Hadoop 2.0\n"
       ]
      },
      {
       "output_type": "stream",
       "stream": "stdout",
       "text": [
        "14/10/09 09:19:43 WARN mapReduceLayer.MapReduceLauncher: Encountered Warning FIELD_DISCARDED_TYPE_CONVERSION_FAILED 136253 time(s).\n"
       ]
      }
     ],
     "prompt_number": 7
    },
    {
     "cell_type": "markdown",
     "metadata": {},
     "source": [
      "Now that PIG finished processing, we have two new file generated:\n",
      "1. airline/fm/ord_2007_1\n",
      "2. airline/fm/ord_2008_1\n",
      "\n",
      "(the \"1\" indicates this is the first iteration; we will work on a second iteration later).\n",
      "\n",
      "PIG is great for pre-procesing raw data into a feature matrix, but it's not the only choice. We can use other tools such as HIVE, Cascading, Scalding or Spark for this type of pre-processing. We will show how to do the same type of pre-processing using Spark in the second part of this blog post."
     ]
    },
    {
     "cell_type": "heading",
     "level": 2,
     "metadata": {},
     "source": [
      "Modeling"
     ]
    },
    {
     "cell_type": "markdown",
     "metadata": {},
     "source": [
      "Now we have the files ord_2007_1 and ord_2008_1 under 'airline/fm' folder in HDFS. \n",
      "Let's read those files into Python, and prepare the training and testing (validation) datasets as Pandas DataFrame objects. As part of this preparation, we translate the delay in minutes into a target variable (train_y and test_y) which is equal to True if the delay is above 15 mins, or False otherwise."
     ]
    },
    {
     "cell_type": "code",
     "collapsed": true,
     "input": [
      "# read files\n",
      "cols = ['delay', 'month', 'day', 'dow', 'hour', 'distance', 'bad_carrier', 'bad_dest', 'days_from_holiday']\n",
      "col_types = {'delay': int, 'month': int, 'day': int, 'dow': int, 'hour': int, 'distance': int, \n",
      "             'bad_carrier': int, 'bad_dest': int, 'days_from_holiday': int}\n",
      "data_2007 = read_csv_from_hdfs('airline/fm/ord_2007_1', cols, col_types)\n",
      "data_2008 = read_csv_from_hdfs('airline/fm/ord_2008_1', cols, col_types)\n",
      "\n",
      "# Create training set and test set\n",
      "cols.remove('delay')\n",
      "train_y = data_2007['delay'] >= 15\n",
      "train_x = data_2007[cols]\n",
      "test_y = data_2008['delay'] >= 15\n",
      "test_x = data_2008[cols]\n",
      "\n",
      "print train_x.head(5)\n",
      "print train_x.shape"
     ],
     "language": "python",
     "metadata": {},
     "outputs": [
      {
       "output_type": "stream",
       "stream": "stdout",
       "text": [
        "   month  day  dow  hour  distance  bad_carrier  bad_dest  days_from_holiday\n",
        "0      1   25    4    10       719            0         1                 10\n",
        "1      1   28    7    15       925            0         0                 13\n",
        "2      1   29    1    20       316            0         0                 14\n",
        "3      1   17    3    18       719            0         1                  2\n",
        "4      1   12    5    20       316            0         0                  3\n",
        "(359169, 8)\n"
       ]
      }
     ],
     "prompt_number": 3
    },
    {
     "cell_type": "markdown",
     "metadata": {},
     "source": [
      "So we can see the first 5 lines of the feature matrix. Overall, we have ~359K rows and 8 features in our model.\n",
      "\n",
      "Now we use Python's excellent Scikit-learn machine learning package to build various models and compare their performance.\n",
      "Let's start with a logistic regression model and evaluate its performance on the testing dataset (data from 2008).\n",
      "\n",
      "We measure performance of a model using the traditional metrics of precision, recall and the F1 measure (http://en.wikipedia.org/wiki/Precision_and_recall).\n",
      "\n",
      "Note the use of %%time - a special IPython command - to measure the time it takes to execute this cell."
     ]
    },
    {
     "cell_type": "code",
     "collapsed": false,
     "input": [
      "%%time\n",
      "\n",
      "# Create logistic regression model with L2 regularization\n",
      "clf_lr = linear_model.LogisticRegression(penalty='l2', class_weight='auto')\n",
      "clf_lr.fit(train_x, train_y)\n",
      "\n",
      "# Predict output labels on test set\n",
      "pr = clf_lr.predict(test_x)\n",
      "\n",
      "# display evaluation metrics\n",
      "cm = confusion_matrix(test_y, pr)\n",
      "print(\"Confusion matrix\")\n",
      "print(pd.DataFrame(cm))\n",
      "report_lr = precision_recall_fscore_support(list(test_y), list(pr), average='micro')\n",
      "print \"precision = %0.2f, recall = %0.2f, F1 = %0.2f, accuracy = %0.2f\\n\" % \\\n",
      "        (report_lr[0], report_lr[1], report_lr[2], accuracy_score(list(test_y), list(pr)))"
     ],
     "language": "python",
     "metadata": {},
     "outputs": [
      {
       "output_type": "stream",
       "stream": "stdout",
       "text": [
        "Confusion matrix\n",
        "        0      1\n",
        "0  149618  90276\n",
        "1   34570  60866\n",
        "precision = 0.40, recall = 0.64, F1 = 0.49, accuracy = 0.63\n"
       ]
      },
      {
       "output_type": "stream",
       "stream": "stdout",
       "text": [
        "\n",
        "CPU times: user 5 s, sys: 0 ns, total: 5 s\n",
        "Wall time: 5.02 s\n"
       ]
      }
     ],
     "prompt_number": 5
    },
    {
     "cell_type": "markdown",
     "metadata": {},
     "source": [
      "Nice; our logistic regression model got a precision of 40% and recall of 64%. And it took about 10 seconds to execute.\n",
      "Now we can try some other machine learning algorithms on the same dataset. \n",
      "\n",
      "Let's try Stochastic Gradient Descent (SGD). SGD is known to perform much better if we first scale the feature values, so we use Scikit-learn's StandardScaler class to do this. Let's see how it works:"
     ]
    },
    {
     "cell_type": "code",
     "collapsed": false,
     "input": [
      "%%time\n",
      "\n",
      "# Create scaled/normalized version of feature matrix, to be used in SGD models\n",
      "scaler = StandardScaler()\n",
      "scaler.fit(train_x)  \n",
      "train_x_sc = scaler.transform(train_x.copy())\n",
      "test_x_sc = scaler.transform(test_x.copy())\n",
      "\n",
      "# Create SGD Logistic regression classifier with 100 iterations\n",
      "# SGD is very sensitive to feature range, so using scaled (normalized) version of feature matrix\n",
      "clf_sgd = linear_model.SGDClassifier(loss='log', penalty='l2', n_iter=200, n_jobs=-1, class_weight='auto')\n",
      "clf_sgd.fit(train_x_sc, train_y)\n",
      "\n",
      "# Predict output labels on test set\n",
      "pr = clf_sgd.predict(test_x_sc)\n",
      "\n",
      "# display evaluation metrics\n",
      "cm = confusion_matrix(test_y, pr)\n",
      "print(\"Confusion matrix\")\n",
      "print(pd.DataFrame(cm))\n",
      "report_sgd = precision_recall_fscore_support(list(test_y), list(pr), average='micro')\n",
      "print \"precision = %0.2f, recall = %0.2f, F1 = %0.2f, accuracy = %0.2f\\n\" % \\\n",
      "        (report_sgd[0], report_sgd[1], report_sgd[2], accuracy_score(list(test_y), list(pr)))"
     ],
     "language": "python",
     "metadata": {},
     "outputs": [
      {
       "output_type": "stream",
       "stream": "stdout",
       "text": [
        "Confusion matrix\n",
        "[[143052  96842]\n",
        " [ 39292  56144]]\n",
        "precision = 0.37, recall = 0.59, F1 = 0.45, accuracy = 0.59\n"
       ]
      },
      {
       "output_type": "stream",
       "stream": "stdout",
       "text": [
        "\n",
        "CPU times: user 8.65 s, sys: 20 ms, total: 8.67 s\n",
        "Wall time: 8.73 s\n"
       ]
      }
     ]
    },
    {
     "cell_type": "markdown",
     "metadata": {},
     "source": [
      "Finally, we build a Random Forest classifier with 50 trees and see how it compares to the logistic regression and SGD models."
     ]
    },
    {
     "cell_type": "code",
     "collapsed": false,
     "input": [
      "%%time\n",
      "\n",
      "# Create Random Forest classifier with 100 trees\n",
      "clf_rf = RandomForestClassifier(n_estimators=100, n_jobs=-1, max_features=None)\n",
      "clf_rf.fit(train_x, train_y)\n",
      "\n",
      "# Evaluate on test set\n",
      "pr = clf_rf.predict(test_x)\n",
      "\n",
      "# print results\n",
      "cm = confusion_matrix(test_y, pr)\n",
      "print(\"Confusion matrix\")\n",
      "print(pd.DataFrame(cm))\n",
      "report_svm = precision_recall_fscore_support(list(test_y), list(pr), average='micro')\n",
      "print \"precision = %0.2f, recall = %0.2f, F1 = %0.2f, accuracy = %0.2f\\n\" % \\\n",
      "        (report_svm[0], report_svm[1], report_svm[2], accuracy_score(list(test_y), list(pr)))\n",
      "# Print feature importance, as detetmined by RF\n",
      "imp = pd.DataFrame({'name': train_x.columns, 'score': clf_rf.feature_importances_}).sort('score')\n",
      "print imp\n"
     ],
     "language": "python",
     "metadata": {},
     "outputs": [
      {
       "output_type": "stream",
       "stream": "stdout",
       "text": [
        "Confusion matrix\n",
        "[[194155  45739]\n",
        " [ 53819  41617]]\n",
        "precision = 0.48, recall = 0.44, F1 = 0.46, accuracy = 0.70\n"
       ]
      },
      {
       "output_type": "stream",
       "stream": "stdout",
       "text": [
        "\n",
        "                name     score\n",
        "6           bad_dest  0.016737\n",
        "5        bad_carrier  0.045585\n",
        "0              month  0.055464\n",
        "2                dow  0.066267\n",
        "7  days_from_holiday  0.087521\n",
        "1                day  0.107957\n",
        "3               hour  0.221163\n",
        "4           distance  0.399306"
       ]
      },
      {
       "output_type": "stream",
       "stream": "stdout",
       "text": [
        "\n",
        "CPU times: user 3min 7s, sys: 3.08 s, total: 3min 11s\n",
        "Wall time: 52.9 s\n"
       ]
      }
     ],
     "prompt_number": 8
    },
    {
     "cell_type": "markdown",
     "metadata": {},
     "source": [
      "As we can see the first logistic regression model seemed to have performed the best out of our three models in terms of F1 measure. \n",
      "\n",
      "Note that the output of a Random Forest model also includes the relative importance of features. We see that in this model, distance is by-far the most important feature in the model, followed by hour of the day."
     ]
    },
    {
     "cell_type": "heading",
     "level": 2,
     "metadata": {},
     "source": [
      "Modeling Iteration 2"
     ]
    },
    {
     "cell_type": "markdown",
     "metadata": {},
     "source": [
      "With predictive modeling, it is very common to go through the exploration/modeling/evaluation cycle multiple times before reaching a satisfactory outcome. In our case, we got some initial results for precision and recall - for our second iteration let's consider how can we improve this model?\n",
      "\n",
      "One way that is often very beneficial is to bring in new types of data - enrich our dataset - and generate more features.\n",
      "Our idea is to layer-in weather data. We can get this data from a publicly available dataset here:  http://www.ncdc.noaa.gov/cdo-web/datasets/\n",
      "\n",
      "We will look at daily temperatures (min/max), wind speed, snow conditions and precipitation in the flight origin airport (ORD). Clearly, weather conditions in the destination airport also affect delays, but for simplicity of this demo we just include weather at the origin (ORD)."
     ]
    },
    {
     "cell_type": "markdown",
     "metadata": {},
     "source": [
      "Our 2nd PIG script does all the data munging and preparation, merging these two datasets into a combined feature matrix at \"airline/fm/ord_2007_2\" and \"airline/fm/ord_2008_2\" on HDFS. "
     ]
    },
    {
     "cell_type": "code",
     "collapsed": false,
     "input": [
      "%%script pig -4 log4j.warn --bg --err pig_out2\n",
      "\n",
      "register 'util.py' USING jython as util;\n",
      "\n",
      "-- Helper macro to load data and join into a feature vector per instance\n",
      "DEFINE preprocess(year_str, airport_code) returns data\n",
      "{\n",
      "    -- load airline data from specified year (need to specify fields since it's not in HCat)\n",
      "    airline = load 'airline/delay/$year_str.csv' using PigStorage(',') \n",
      "                    as (Year: int, Month: int, DayOfMonth: int, DayOfWeek: int, DepTime: chararray, CRSDepTime, ArrTime, \n",
      "                        CRSArrTime, Carrier: chararray, FlightNum, TailNum, ActualElapsedTime, CRSElapsedTime, AirTime, \n",
      "                        ArrDelay, DepDelay: int, Origin: chararray, Dest: chararray, Distance: int, TaxiIn, TaxiOut, \n",
      "                        Cancelled: int, CancellationCode, Diverted, CarrierDelay, WeatherDelay, NASDelay, \n",
      "                        SecurityDelay, LateAircraftDelay);\n",
      "\n",
      "    -- keep only instances where flight was not cancelled and originate at ORD\n",
      "    airline_flt = filter airline by Cancelled == 0 and origin == '$airport_code';\n",
      "\n",
      "    -- Keep only fields I need\n",
      "    airline2 = foreach airline_flt generate Year as year, Month as month, DayOfMonth as day, DayOfWeek as dow,\n",
      "                        Carrier as carrier, Origin as origin, Dest as dest, Distance as distance,\n",
      "                        DepTime as time, DepDelay as delay, util.to_date(Year, Month, DayOfMonth) as date;\n",
      "\n",
      "    -- load weather data\n",
      "    weather = load 'airline/weather/$year_str.csv' using PigStorage(',') \n",
      "                    as (station: chararray, date: chararray, metric, value, t1, t2, t3, time);\n",
      "\n",
      "    -- keep only TMIN and TMAX weather observations from ORD\n",
      "    weather_tmin = filter weather by station == 'USW00094846' and metric == 'TMIN';\n",
      "    weather_tmax = filter weather by station == 'USW00094846' and metric == 'TMAX';\n",
      "    weather_prcp = filter weather by station == 'USW00094846' and metric == 'PRCP';\n",
      "    weather_snow = filter weather by station == 'USW00094846' and metric == 'SNOW';\n",
      "    weather_awnd = filter weather by station == 'USW00094846' and metric == 'AWND';\n",
      "\n",
      "    joined = join airline2 by date, weather_tmin by date, weather_tmax by date, weather_prcp by date, \n",
      "                                    weather_snow by date, weather_awnd by date;\n",
      "    $data = foreach joined generate delay, month, day, dow, util.get_hour(airline2::time) as tod, distance,\n",
      "                                    util.is_bad_carrier(carrier) as is_bad_carrier, util.is_bad_dest(dest) as is_bad_dest,\n",
      "                                    util.days_from_nearest_holiday(year, month, day) as hdays,\n",
      "                                    weather_tmin::value as temp_min, weather_tmax::value as temp_max,\n",
      "                                    weather_prcp::value as prcp, weather_snow::value as snow, weather_awnd::value as wind;\n",
      "};\n",
      "\n",
      "ORD_2007 = preprocess('2007', 'ORD');\n",
      "rmf airline/fm/ord_2007_2;\n",
      "store ORD_2007 into 'airline/fm/ord_2007_2' using PigStorage(',');\n",
      "\n",
      "ORD_2008 = preprocess('2008', 'ORD');\n",
      "rmf airline/fm/ord_2008_2;\n",
      "store ORD_2008 into 'airline/fm/ord_2008_2' using PigStorage(',');"
     ],
     "language": "python",
     "metadata": {},
     "outputs": []
    },
    {
     "cell_type": "code",
     "collapsed": false,
     "input": [
      "while True:\n",
      "    line = pig_out2.readline()\n",
      "    if not line:\n",
      "        break\n",
      "    sys.stdout.write(\"%s\" % line)\n",
      "    sys.stdout.flush()"
     ],
     "language": "python",
     "metadata": {},
     "outputs": []
    },
    {
     "cell_type": "markdown",
     "metadata": {},
     "source": [
      "We now read this data in, convert temparatures to Fahrenheit (note original temp is in Celcius*10), and prepare the training and testing datasets. "
     ]
    },
    {
     "cell_type": "code",
     "collapsed": false,
     "input": [
      "# Convert Celcius to Fahrenheit\n",
      "def fahrenheit(x): return(x*1.8 + 32.0)\n",
      "\n",
      "# read files\n",
      "cols = ['delay', 'month', 'day', 'dow', 'hour', 'distance', 'bad_carrier', 'bad_dest', 'days_from_holiday',\n",
      "        'origin_tmin', 'origin_tmax', 'origin_prcp', 'origin_snow', 'origin_wind']\n",
      "col_types = {'delay': int, 'month': int, 'day': int, 'dow': int, 'hour': int, 'distance': int, \n",
      "             'bad_carrier': int, 'bad_dest': int, 'days_from_holiday': int,\n",
      "             'origin_tmin': float, 'origin_tmax': float, 'origin_prcp': float, 'origin_snow': float, 'origin_wind': float}\n",
      "\n",
      "data_2007 = read_csv_from_hdfs('airline/fm/ord_2007_2', cols, col_types)\n",
      "data_2008 = read_csv_from_hdfs('airline/fm/ord_2008_2', cols, col_types)\n",
      "\n",
      "data_2007['origin_tmin'] = data_2007['origin_tmin'].apply(lambda x: fahrenheit(x/10.0))\n",
      "data_2007['origin_tmax'] = data_2007['origin_tmax'].apply(lambda x: fahrenheit(x/10.0))\n",
      "data_2008['origin_tmin'] = data_2008['origin_tmin'].apply(lambda x: fahrenheit(x/10.0))\n",
      "data_2008['origin_tmax'] = data_2008['origin_tmax'].apply(lambda x: fahrenheit(x/10.0))\n",
      "\n",
      "cols.remove('delay')\n",
      "train_y = data_2007['delay'] >= 15\n",
      "train_x = data_2007[cols]\n",
      "test_y = data_2008['delay'] >= 15\n",
      "test_x = data_2008[cols]\n",
      "\n",
      "print train_x.head(5)\n",
      "data_2007.shape"
     ],
     "language": "python",
     "metadata": {},
     "outputs": [
      {
       "output_type": "stream",
       "stream": "stdout",
       "text": [
        "   month  day  dow  hour  distance  bad_carrier  bad_dest  days_from_holiday  \\\n",
        "0      1    3    3    10       491            0         0                  2   \n",
        "1      1    3    3    13       590            1         0                  2   \n",
        "2      1    3    3     9       802            1         1                  2   \n",
        "3      1    3    3    13       215            1         0                  2   \n",
        "4      1    3    3     6       528            0         0                  2   \n",
        "\n",
        "   origin_tmin  origin_tmax  origin_prcp  origin_snow  origin_wind  \n",
        "0        33.08        48.02            0            0           70  \n",
        "1        33.08        48.02            0            0           70  \n",
        "2        33.08        48.02            0            0           70  \n",
        "3        33.08        48.02            0            0           70  \n",
        "4        33.08        48.02            0            0           70  \n"
       ]
      },
      {
       "metadata": {},
       "output_type": "pyout",
       "prompt_number": 9,
       "text": [
        "(359169, 14)"
       ]
      }
     ],
     "prompt_number": 9
    },
    {
     "cell_type": "markdown",
     "metadata": {},
     "source": [
      "Good. SO now that we have the training and test (validation) set ready, let's try Random Forest with the new features"
     ]
    },
    {
     "cell_type": "code",
     "collapsed": false,
     "input": [
      "%%time\n",
      "# Create Random Forest classifier with 100 trees\n",
      "clf_rf = RandomForestClassifier(n_estimators=100, max_features=None, n_jobs=-1)\n",
      "clf_rf.fit(train_x, train_y)\n",
      "\n",
      "# Evaluate on test set\n",
      "pr = clf_rf.predict(test_x)\n",
      "\n",
      "# print results\n",
      "cm = confusion_matrix(test_y, pr)\n",
      "print(\"Confusion matrix\")\n",
      "print(pd.DataFrame(cm))\n",
      "report_rf = precision_recall_fscore_support(list(test_y), list(pr), average='micro')\n",
      "print \"precision = %0.2f, recall = %0.2f, F1 = %0.2f, accuracy = %0.2f\\n\" % \\\n",
      "        (report_rf[0], report_rf[1], report_rf[2], accuracy_score(list(test_y), list(pr)))\n",
      "    \n",
      "# Print feature importance, as detetmined by RF\n",
      "imp = pd.DataFrame({'name': train_x.columns, 'score': clf_rf.feature_importances_}).sort('score')\n",
      "print imp\n"
     ],
     "language": "python",
     "metadata": {},
     "outputs": [
      {
       "output_type": "stream",
       "stream": "stdout",
       "text": [
        "Confusion matrix\n",
        "[[207714  32180]\n",
        " [ 51759  43677]]\n",
        "precision = 0.58, recall = 0.46, F1 = 0.51, accuracy = 0.75\n"
       ]
      },
      {
       "output_type": "stream",
       "stream": "stdout",
       "text": [
        "\n",
        "                 name     score\n",
        "11        origin_snow  0.012520\n",
        "6            bad_dest  0.014078\n",
        "0               month  0.022311\n",
        "2                 dow  0.026647\n",
        "7   days_from_holiday  0.037910\n",
        "8         origin_tmin  0.038870\n",
        "1                 day  0.042140\n",
        "5         bad_carrier  0.043068\n",
        "9         origin_tmax  0.049400\n",
        "12        origin_wind  0.051452\n",
        "10        origin_prcp  0.054069\n",
        "3                hour  0.219067\n",
        "4            distance  0.388468"
       ]
      },
      {
       "output_type": "stream",
       "stream": "stdout",
       "text": [
        "\n",
        "CPU times: user 2min 8s, sys: 1.4 s, total: 2min 9s\n",
        "Wall time: 39 s\n"
       ]
      }
     ],
     "prompt_number": 10
    },
    {
     "cell_type": "markdown",
     "metadata": {},
     "source": [
      "As we can see, average precision/recall went up from 0.50/0.39 to 0.57/0.46, and accuracy from 0.70 to 0.77. That's good news!\n",
      "\n",
      "We can also see that the weather data has non-trivial importance in the Random Forest model importance scores. Clearly with more time to go on for a few more iterations, additional data sources and improved features, we are likely to improve this model's performance even more.\n",
      "\n",
      "In the next part of this multi-part blog post we will show how to perform the same learning task with Spark and ML-Lib.\n"
     ]
    },
    {
     "cell_type": "code",
     "collapsed": false,
     "input": [],
     "language": "python",
     "metadata": {},
     "outputs": []
    }
   ],
   "metadata": {}
  }
 ]
}