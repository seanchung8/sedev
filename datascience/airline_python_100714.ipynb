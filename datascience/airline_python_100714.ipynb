{
 "metadata": {
  "name": "",
  "signature": "sha256:51f99ca429e82eecf1d55d47deb25af25d404786ae55b3c0d5db256dd926c4dd"
 },
 "nbformat": 3,
 "nbformat_minor": 0,
 "worksheets": [
  {
   "cells": [
    {
     "cell_type": "heading",
     "level": 1,
     "metadata": {},
     "source": [
      "Data Science Demo - Hortonworks\n",
      "Modeling airline delays with Hadoop and Python"
     ]
    },
    {
     "cell_type": "markdown",
     "metadata": {},
     "source": [
      "In this demo we will explore the airline delay dataset available here:  http://stat-computing.org/dataexpo/2009/the-data.html\n",
      "This dataset includes details about flights in the US from the years 1987-2008. \n",
      "\n",
      "Our goal is to build a supervised learning model to predict flight delays for flights leaving Ohare International airport (ORD). We will use the year 2007 data to build the model, and test it's validity on the year 2008."
     ]
    },
    {
     "cell_type": "code",
     "collapsed": false,
     "input": [
      "# Python library imports: numpy, random, sklearn, pandas, etc\n",
      "\n",
      "import warnings\n",
      "warnings.filterwarnings('ignore')\n",
      "\n",
      "import random\n",
      "import numpy as np\n",
      "\n",
      "from sklearn import linear_model, cross_validation, metrics, svm\n",
      "from sklearn.metrics import classification_report, confusion_matrix, precision_recall_fscore_support\n",
      "from sklearn.ensemble import RandomForestClassifier\n",
      "from sklearn.preprocessing import StandardScaler\n",
      "\n",
      "import pandas as pd\n",
      "import matplotlib.pyplot as plt\n",
      "\n",
      "%matplotlib inline"
     ],
     "language": "python",
     "metadata": {},
     "outputs": [],
     "prompt_number": 1
    },
    {
     "cell_type": "code",
     "collapsed": false,
     "input": [
      "%%javascript\n",
      "IPython.OutputArea.auto_scroll_threshold = 30;"
     ],
     "language": "python",
     "metadata": {},
     "outputs": [
      {
       "javascript": [
        "IPython.OutputArea.auto_scroll_threshold = 30;"
       ],
       "metadata": {},
       "output_type": "display_data",
       "text": [
        "<IPython.core.display.Javascript at 0x7fdf67355c10>"
       ]
      }
     ],
     "prompt_number": 2
    },
    {
     "cell_type": "code",
     "collapsed": false,
     "input": [
      "# function to read HDFS file into dataframe using PyDoop\n",
      "\n",
      "import pydoop.hdfs as hdfs\n",
      "def read_csv_from_hdfs(path, cols, col_types=None):\n",
      "  files = hdfs.ls(path);\n",
      "  pieces = []\n",
      "  for f in files:\n",
      "    pieces.append(pd.read_csv(hdfs.open(f), names=cols, dtype=col_types))\n",
      "  return pd.concat(pieces, ignore_index=True)"
     ],
     "language": "python",
     "metadata": {},
     "outputs": [],
     "prompt_number": 3
    },
    {
     "cell_type": "heading",
     "level": 2,
     "metadata": {},
     "source": [
      "Data Exploration"
     ]
    },
    {
     "cell_type": "markdown",
     "metadata": {},
     "source": [
      "First we explore the dataset to determine which variables are reasonable to use for this prediction task.\n",
      "We will take a look at the year 2007 as an example "
     ]
    },
    {
     "cell_type": "code",
     "collapsed": false,
     "input": [
      "# read 2007 year file\n",
      "cols = ['year', 'month', 'day', 'dow', 'DepTime', 'CRSDepTime', 'ArrTime', 'CRSArrTime', 'Carrier', 'FlightNum', \n",
      "        'TailNum', 'ActualElapsedTime', 'CRSElapsedTime', 'AirTime', 'ArrDelay', 'DepDelay', 'Origin', 'Dest', \n",
      "        'Distance', 'TaxiIn', 'TaxiOut', 'Cancelled', 'CancellationCode', 'Diverted', 'CarrierDelay', \n",
      "        'WeatherDelay', 'NASDelay', 'SecurityDelay', 'LateAircraftDelay'];\n",
      "flt_2007 = read_csv_from_hdfs('airline/delay/2007.csv', cols)\n",
      "\n",
      "flt_2007.shape"
     ],
     "language": "python",
     "metadata": {},
     "outputs": [
      {
       "metadata": {},
       "output_type": "pyout",
       "prompt_number": 9,
       "text": [
        "(7453216, 29)"
       ]
      }
     ],
     "prompt_number": 9
    },
    {
     "cell_type": "markdown",
     "metadata": {},
     "source": [
      "So we have 7.4M+ flights in 2007 and 29 variables.\n",
      "\n",
      "Our \"target\" variable will be DepDelay (departure delay in minutes). To build a classifier, we further refine our target variable into a binary variable by defining a \"delay\" as having 15 mins or more of delay, and \"non-delay\" otherwise.\n",
      "\n",
      "Let's look at possible predictive variables:\n",
      "- month: winter months should have more delays than summer months\n",
      "- day of month: this is likely not a very predictive variable\n",
      "- day of week: weekend vs. weekday\n",
      "- Carrier: we might expect some carriers to be more prone to delays than others\n",
      "- Dest: we expect some airports to be more prone to delays than others\n",
      "- Distance: interesting to see if this variable is a good predictor of delay\n",
      "\n",
      "Note that we won't use many other variables such as TaxiIn, TaxiOut or SecurityDelay since they cannot be used ahead of time for prediction."
     ]
    },
    {
     "cell_type": "raw",
     "metadata": {},
     "source": [
      "Now let's look at airports. Our intuition tells us that some airports are worse than others. Let's see which origin airports have the most delays for 2007 with destination ORD:"
     ]
    },
    {
     "cell_type": "code",
     "collapsed": false,
     "input": [
      "df = flt_2007[flt_2007['Origin']=='ORD'].dropna(subset=['DepDelay'])\n",
      "df['DepDelay'] = df[['DepDelay']].apply(lambda x: x>=15)\n",
      "\n",
      "grouped = df[['DepDelay', 'Dest']].groupby('Dest').sum()\n",
      "dest = grouped.sort(['DepDelay'], ascending=False)\n",
      "print dest[:10]\n",
      "\n",
      "dest[:20].plot(kind='bar')"
     ],
     "language": "python",
     "metadata": {},
     "outputs": [
      {
       "output_type": "stream",
       "stream": "stdout",
       "text": [
        "      DepDelay\n",
        "Dest          \n",
        "LGA       3781\n",
        "EWR       3044\n",
        "MSP       2756\n",
        "DFW       2565\n",
        "LAX       2473\n",
        "PHL       2189\n",
        "BOS       2089\n",
        "DTW       1971\n",
        "CLT       1907\n",
        "DEN       1869\n"
       ]
      },
      {
       "metadata": {},
       "output_type": "pyout",
       "prompt_number": 19,
       "text": [
        "<matplotlib.axes._subplots.AxesSubplot at 0x7fdeeb133790>"
       ]
      },
      {
       "metadata": {},
       "output_type": "display_data",
       "png": "[encoded data removed]",
       "text": [
        "<matplotlib.figure.Figure at 0x7fdf3fb6cd10>"
       ]
      }
     ],
     "prompt_number": 19
    },
    {
     "cell_type": "markdown",
     "metadata": {},
     "source": [
      "Similarly, some carriers are notorious for delays.\n",
      "Let's see who those are..."
     ]
    },
    {
     "cell_type": "code",
     "collapsed": false,
     "input": [
      "grouped = df[['DepDelay', 'Carrier']].groupby('Carrier').sum()\n",
      "dest = grouped.sort(['DepDelay'], ascending=False)\n",
      "print dest[:5]\n",
      "\n",
      "dest[:15].plot(kind='bar')\n"
     ],
     "language": "python",
     "metadata": {},
     "outputs": [
      {
       "output_type": "stream",
       "stream": "stdout",
       "text": [
        "         DepDelay\n",
        "Carrier          \n",
        "UA          28388\n",
        "MQ          26305\n",
        "AA          23410\n",
        "OO          12810\n",
        "YV           9325\n"
       ]
      },
      {
       "metadata": {},
       "output_type": "pyout",
       "prompt_number": 20,
       "text": [
        "<matplotlib.axes._subplots.AxesSubplot at 0x7fdeefd7f250>"
       ]
      },
      {
       "metadata": {},
       "output_type": "display_data",
       "png": "[encoded data removed]",
       "text": [
        "<matplotlib.figure.Figure at 0x7fdf3f20a7d0>"
       ]
      }
     ],
     "prompt_number": 20
    },
    {
     "cell_type": "markdown",
     "metadata": {},
     "source": [
      "Okay, so now let's look at the \"month\" variable. \n",
      "Do we see a correlation between winter months and higher occurent of delays?"
     ]
    },
    {
     "cell_type": "code",
     "collapsed": false,
     "input": [
      "grouped = df[['DepDelay', 'month']].groupby('month').sum()\n",
      "print grouped\n",
      "grouped.plot(kind='bar')"
     ],
     "language": "python",
     "metadata": {},
     "outputs": [
      {
       "output_type": "stream",
       "stream": "stdout",
       "text": [
        "       DepDelay\n",
        "month          \n",
        "1         10100\n",
        "2         11316\n",
        "3         10389\n",
        "4          8875\n",
        "5          7010\n",
        "6          9491\n",
        "7          8711\n",
        "8         10348\n",
        "9          6195\n",
        "10         7093\n",
        "11         7060\n",
        "12        12758\n"
       ]
      },
      {
       "metadata": {},
       "output_type": "pyout",
       "prompt_number": 21,
       "text": [
        "<matplotlib.axes._subplots.AxesSubplot at 0x7fdeefcddbd0>"
       ]
      },
      {
       "metadata": {},
       "output_type": "display_data",
       "png": "[encoded data removed]",
       "text": [
        "<matplotlib.figure.Figure at 0x7fdf3f3a3b10>"
       ]
      }
     ],
     "prompt_number": 21
    },
    {
     "cell_type": "markdown",
     "metadata": {},
     "source": [
      "Looks like the assumption that winter months will see more delayed is incorrect. We see a pretty even distribution, with a lof of delays in Dec/Jan/Feb but also in June. Sep/Oct/Nov seem to have the least number of delays, so that leads us to believe month could contribute to the model though, but not as strongly as the original intent."
     ]
    },
    {
     "cell_type": "heading",
     "level": 2,
     "metadata": {},
     "source": [
      "Pre-processing"
     ]
    },
    {
     "cell_type": "markdown",
     "metadata": {},
     "source": [
      "Now let's turn to building a feature matrix for our predictive model. \n",
      "\n",
      "We use PIG to preprocess the raw data into a feature matrix with the variables we choose:\n",
      "- delay: minutes of delay\n",
      "- month, day, day-of-week, hour\n",
      "- distance: of flight in miles\n",
      "- bad_carrier: is this carrier in the list of top-5 delayed carrier\n",
      "- bad_dest: is this destination airport in the list of top-5 Origin airports with delays\n",
      "- days_from_holiday: distance in days from the closest national holiday\n",
      "\n",
      "Here's the python UDF:"
     ]
    },
    {
     "cell_type": "raw",
     "metadata": {},
     "source": [
      "from datetime import date\n",
      "\n",
      "@outputSchema(\"value: int\")\n",
      "def get_hour(val):\n",
      "  return int(val.zfill(4)[:2])\n",
      "\n",
      "@outputSchema(\"date: chararray\")\n",
      "def to_date(year, month, day):\n",
      "  s = \"%04d%02d%02d\" % (year, month, day)\n",
      "  return s\n",
      "\n",
      "holidays = [\n",
      "        date(2007, 1, 1), date(2007, 1, 15), date(2007, 2, 19), date(2007, 5, 28), date(2007, 6, 7), date(2007, 7, 4), \\\n",
      "        date(2007, 9, 3), date(2007, 10, 8), date(2007, 11, 11), date(2007, 11, 22), date(2007, 12, 25), \\\n",
      "        date(2008, 1, 1), date(2008, 1, 21), date(2008, 2, 18), date(2008, 5, 22), date(2008, 5, 26), date(2008, 7, 4), \\\n",
      "        date(2008, 9, 1), date(2008, 10, 13), date(2008, 11, 11), date(2008, 11, 27), date(2008, 12, 25) \\\n",
      "     ]\n",
      "\n",
      "@outputSchema(\"days: int\")\n",
      "def days_from_nearest_holiday(year, month, day):\n",
      "  d = date(year, month, day)\n",
      "  x = [(abs(d-h)).days for h in holidays]\n",
      "  return min(x)\n",
      "\n",
      "@outputSchema(\"is_bad_carrier: int\")\n",
      "def is_bad_carrier(carrier):\n",
      "  return 1 if (carrier in ['UA', 'MQ', 'AA']) else 0\n",
      "\n",
      "@outputSchema(\"is_bad_dest: int\")\n",
      "def is_bad_dest(dest):\n",
      "  return 1 if (dest in ['LGA', 'EWR', 'MSP', 'DFW', 'LAX']) else 0\n"
     ]
    },
    {
     "cell_type": "markdown",
     "metadata": {},
     "source": [
      "And a PIG script - preprocess1.pig"
     ]
    },
    {
     "cell_type": "code",
     "collapsed": false,
     "input": [
      "%%script pig --bg --err pig_out\n",
      "\n",
      "Register 'util.py' USING jython as util;\n",
      "DEFINE preprocess(year_str, airport_code) returns data\n",
      "{\n",
      "        -- load airline data from specified year (need to specify fields since it's not in HCat)\n",
      "        airline = load 'airline/delay/$year_str.csv' using PigStorage(',') \n",
      "            as (Year: int, Month: int, DayOfMonth: int, DayOfWeek: int, DepTime: chararray, \n",
      "                CRSDepTime, ArrTime, CRSArrTime, Carrier: chararray, FlightNum, TailNum, ActualElapsedTime, \n",
      "                CRSElapsedTime, AirTime, ArrDelay, DepDelay: int, Origin: chararray, Dest: chararray, Distance: int, \n",
      "                TaxiIn, TaxiOut, Cancelled: int, CancellationCode, Diverted, CarrierDelay, WeatherDelay, \n",
      "                NASDelay, SecurityDelay, LateAircraftDelay);\n",
      "\n",
      "        -- keep only instances where flight was not cancelled\n",
      "        airline_flt = filter airline by Cancelled == 0;\n",
      "\n",
      "        -- Keep only fields I need\n",
      "        airline2 = foreach airline_flt generate Year as year, Month as month, DayOfMonth as day, DayOfWeek as dow,\n",
      "                        Carrier as carrier, Origin as origin, Dest as dest, Distance as distance,\n",
      "                        DepTime as time, DepDelay as delay;\n",
      "\n",
      "        airline3 = filter airline2 by origin == '$airport_code';\n",
      "        $data = foreach airline3 generate delay, month, day, dow, util.get_hour(time) as hour, distance,\n",
      "                    util.is_bad_carrier(carrier) as is_bad_carrier, util.is_bad_dest(dest) as is_bad_dest,\n",
      "                    util.days_from_nearest_holiday(year, month, day) as hdays;\n",
      "};\n",
      "\n",
      "ORD_2007 = preprocess('2007', 'ORD');\n",
      "rmf airline/fm/ord_2007_1;\n",
      "store ORD_2007 into 'airline/fm/ord_2007_1' using PigStorage(',');\n",
      "\n",
      "ORD_2008 = preprocess('2008', 'ORD');\n",
      "rmf airline/fm/ord_2008_1;\n",
      "store ORD_2008 into 'airline/fm/ord_2008_1' using PigStorage(',');"
     ],
     "language": "python",
     "metadata": {},
     "outputs": [
      {
       "output_type": "stream",
       "stream": "stdout",
       "text": [
        "Starting job # 0 in a separate thread.\n"
       ]
      }
     ],
     "prompt_number": 8
    },
    {
     "cell_type": "markdown",
     "metadata": {},
     "source": [
      "Let's look at the output as the script continues to process..."
     ]
    },
    {
     "cell_type": "code",
     "collapsed": false,
     "input": [
      "while True:\n",
      "    line = pig_out.readline()\n",
      "    if not line:\n",
      "        break\n",
      "    sys.stdout.write(\"%s\" % line)\n",
      "    sys.stdout.flush()"
     ],
     "language": "python",
     "metadata": {},
     "outputs": [
      {
       "output_type": "stream",
       "stream": "stdout",
       "text": [
        "2014-10-03 20:02:57,827 [main] INFO  org.apache.pig.Main - Apache Pig version 0.12.1.2.1.5.0-695 (rexported) compiled Aug 27 2014, 23:56:19\n"
       ]
      },
      {
       "output_type": "stream",
       "stream": "stdout",
       "text": [
        "2014-10-03 20:02:57,829 [main] INFO  org.apache.pig.Main - Logging error messages to: /home/ofer/airline-demo/pig_1412391777825.log\n"
       ]
      },
      {
       "output_type": "stream",
       "stream": "stdout",
       "text": [
        "2014-10-03 20:02:59,337 [main] INFO  org.apache.pig.impl.util.Utils - Default bootup file /home/ofer/.pigbootup not found\n"
       ]
      },
      {
       "output_type": "stream",
       "stream": "stdout",
       "text": [
        "2014-10-03 20:03:00,121 [main] INFO  org.apache.hadoop.conf.Configuration.deprecation - mapred.job.tracker is deprecated. Instead, use mapreduce.jobtracker.address\n"
       ]
      },
      {
       "output_type": "stream",
       "stream": "stdout",
       "text": [
        "2014-10-03 20:03:00,122 [main] INFO  org.apache.hadoop.conf.Configuration.deprecation - fs.default.name is deprecated. Instead, use fs.defaultFS\n"
       ]
      },
      {
       "output_type": "stream",
       "stream": "stdout",
       "text": [
        "2014-10-03 20:03:00,123 [main] INFO  org.apache.pig.backend.hadoop.executionengine.HExecutionEngine - Connecting to hadoop file system at: hdfs://ds-demo01.cloud.hortonworks.com:8020\n"
       ]
      },
      {
       "output_type": "stream",
       "stream": "stdout",
       "text": [
        "2014-10-03 20:03:01,096 [main] INFO  org.apache.hadoop.conf.Configuration.deprecation - fs.default.name is deprecated. Instead, use fs.defaultFS\n"
       ]
      },
      {
       "output_type": "stream",
       "stream": "stdout",
       "text": [
        "2014-10-03 20:03:01,209 [main] INFO  org.apache.hadoop.conf.Configuration.deprecation - fs.default.name is deprecated. Instead, use fs.defaultFS\n"
       ]
      },
      {
       "output_type": "stream",
       "stream": "stdout",
       "text": [
        "2014-10-03 20:03:01,236 [main] INFO  org.apache.pig.scripting.jython.JythonScriptEngine - created tmp python.cachedir=/tmp/pig_jython_198517670389905568\n"
       ]
      },
      {
       "output_type": "stream",
       "stream": "stdout",
       "text": [
        "2014-10-03 20:03:02,879 [main] WARN  org.apache.pig.scripting.jython.JythonScriptEngine - pig.cmd.args.remainders is empty. This is not expected unless on testing.\n"
       ]
      },
      {
       "output_type": "stream",
       "stream": "stdout",
       "text": [
        "2014-10-03 20:03:04,876 [main] INFO  org.apache.pig.scripting.jython.JythonScriptEngine - Register scripting UDF: util.get_hour\n"
       ]
      },
      {
       "output_type": "stream",
       "stream": "stdout",
       "text": [
        "2014-10-03 20:03:04,880 [main] INFO  org.apache.pig.scripting.jython.JythonScriptEngine - Register scripting UDF: util.to_date\n"
       ]
      },
      {
       "output_type": "stream",
       "stream": "stdout",
       "text": [
        "2014-10-03 20:03:04,883 [main] INFO  org.apache.pig.scripting.jython.JythonScriptEngine - Register scripting UDF: util.is_bad_carrier\n"
       ]
      },
      {
       "output_type": "stream",
       "stream": "stdout",
       "text": [
        "2014-10-03 20:03:04,886 [main] INFO  org.apache.pig.scripting.jython.JythonScriptEngine - Register scripting UDF: util.is_bad_dest\n"
       ]
      },
      {
       "output_type": "stream",
       "stream": "stdout",
       "text": [
        "2014-10-03 20:03:04,888 [main] INFO  org.apache.pig.scripting.jython.JythonScriptEngine - Register scripting UDF: util.days_from_nearest_holiday\n"
       ]
      },
      {
       "output_type": "stream",
       "stream": "stdout",
       "text": [
        "2014-10-03 20:03:05,720 [main] INFO  org.apache.pig.scripting.jython.JythonFunction - Schema 'value: int' defined for func get_hour\n"
       ]
      },
      {
       "output_type": "stream",
       "stream": "stdout",
       "text": [
        "2014-10-03 20:03:06,252 [main] INFO  org.apache.pig.tools.grunt.GruntParser - Waited 0ms to delete file\n"
       ]
      },
      {
       "output_type": "stream",
       "stream": "stdout",
       "text": [
        "2014-10-03 20:03:07,046 [main] INFO  org.apache.pig.tools.pigstats.ScriptState - Pig features used in the script: FILTER\n"
       ]
      },
      {
       "output_type": "stream",
       "stream": "stdout",
       "text": [
        "2014-10-03 20:03:07,097 [main] INFO  org.apache.pig.newplan.logical.optimizer.LogicalPlanOptimizer - {RULES_ENABLED=[AddForEach, ColumnMapKeyPrune, GroupByConstParallelSetter, LimitOptimizer, LoadTypeCastInserter, MergeFilter, MergeForEach, NewPartitionFilterOptimizer, PartitionFilterOptimizer, PushDownForEachFlatten, PushUpFilter, SplitFilter, StreamTypeCastInserter], RULES_DISABLED=[FilterLogicExpressionSimplifier]}\n"
       ]
      },
      {
       "output_type": "stream",
       "stream": "stdout",
       "text": [
        "2014-10-03 20:03:07,146 [main] INFO  org.apache.pig.newplan.logical.rules.ColumnPruneVisitor - Columns pruned for macro_preprocess_airline_0: $5, $6, $7, $9, $10, $11, $12, $13, $14, $19, $20, $22, $23, $24, $25, $26, $27, $28\n"
       ]
      },
      {
       "output_type": "stream",
       "stream": "stdout",
       "text": [
        "2014-10-03 20:03:07,169 [main] INFO  org.apache.hadoop.conf.Configuration.deprecation - mapred.textoutputformat.separator is deprecated. Instead, use mapreduce.output.textoutputformat.separator\n"
       ]
      },
      {
       "output_type": "stream",
       "stream": "stdout",
       "text": [
        "2014-10-03 20:03:07,525 [main] INFO  org.apache.pig.backend.hadoop.executionengine.mapReduceLayer.MRCompiler - File concatenation threshold: 100 optimistic? false\n"
       ]
      },
      {
       "output_type": "stream",
       "stream": "stdout",
       "text": [
        "2014-10-03 20:03:07,567 [main] INFO  org.apache.pig.backend.hadoop.executionengine.mapReduceLayer.MultiQueryOptimizer - MR plan size before optimization: 1\n"
       ]
      },
      {
       "output_type": "stream",
       "stream": "stdout",
       "text": [
        "2014-10-03 20:03:07,568 [main] INFO  org.apache.pig.backend.hadoop.executionengine.mapReduceLayer.MultiQueryOptimizer - MR plan size after optimization: 1\n"
       ]
      },
      {
       "output_type": "stream",
       "stream": "stdout",
       "text": [
        "2014-10-03 20:03:08,168 [main] INFO  org.apache.hadoop.yarn.client.api.impl.TimelineClientImpl - Timeline service address: http://ds-demo02.cloud.hortonworks.com:8188/ws/v1/timeline/\n"
       ]
      },
      {
       "output_type": "stream",
       "stream": "stdout",
       "text": [
        "2014-10-03 20:03:08,334 [main] INFO  org.apache.hadoop.yarn.client.RMProxy - Connecting to ResourceManager at ds-demo02.cloud.hortonworks.com/172.24.68.81:8050\n"
       ]
      },
      {
       "output_type": "stream",
       "stream": "stdout",
       "text": [
        "2014-10-03 20:03:08,544 [main] INFO  org.apache.pig.tools.pigstats.ScriptState - Pig script settings are added to the job\n"
       ]
      },
      {
       "output_type": "stream",
       "stream": "stdout",
       "text": [
        "2014-10-03 20:03:08,554 [main] INFO  org.apache.hadoop.conf.Configuration.deprecation - mapred.job.reduce.markreset.buffer.percent is deprecated. Instead, use mapreduce.reduce.markreset.buffer.percent\n"
       ]
      },
      {
       "output_type": "stream",
       "stream": "stdout",
       "text": [
        "2014-10-03 20:03:08,555 [main] INFO  org.apache.pig.backend.hadoop.executionengine.mapReduceLayer.JobControlCompiler - mapred.job.reduce.markreset.buffer.percent is not set, set to default 0.3\n"
       ]
      },
      {
       "output_type": "stream",
       "stream": "stdout",
       "text": [
        "2014-10-03 20:03:08,555 [main] INFO  org.apache.hadoop.conf.Configuration.deprecation - mapred.output.compress is deprecated. Instead, use mapreduce.output.fileoutputformat.compress\n"
       ]
      },
      {
       "output_type": "stream",
       "stream": "stdout",
       "text": [
        "2014-10-03 20:03:09,197 [main] INFO  org.apache.pig.backend.hadoop.executionengine.mapReduceLayer.JobControlCompiler - creating jar file Job1619531580287002241.jar\n"
       ]
      },
      {
       "output_type": "stream",
       "stream": "stdout",
       "text": [
        "2014-10-03 20:03:13,538 [main] INFO  org.apache.pig.backend.hadoop.executionengine.mapReduceLayer.JobControlCompiler - jar file Job1619531580287002241.jar created\n"
       ]
      },
      {
       "output_type": "stream",
       "stream": "stdout",
       "text": [
        "2014-10-03 20:03:13,540 [main] INFO  org.apache.hadoop.conf.Configuration.deprecation - mapred.jar is deprecated. Instead, use mapreduce.job.jar\n"
       ]
      },
      {
       "output_type": "stream",
       "stream": "stdout",
       "text": [
        "2014-10-03 20:03:13,580 [main] INFO  org.apache.pig.backend.hadoop.executionengine.mapReduceLayer.JobControlCompiler - Setting up single store job\n"
       ]
      },
      {
       "output_type": "stream",
       "stream": "stdout",
       "text": [
        "2014-10-03 20:03:13,594 [main] INFO  org.apache.pig.data.SchemaTupleFrontend - Key [pig.schematuple] is false, will not generate code.\n"
       ]
      },
      {
       "output_type": "stream",
       "stream": "stdout",
       "text": [
        "2014-10-03 20:03:13,595 [main] INFO  org.apache.pig.data.SchemaTupleFrontend - Starting process to move generated code to distributed cache\n"
       ]
      },
      {
       "output_type": "stream",
       "stream": "stdout",
       "text": [
        "2014-10-03 20:03:13,595 [main] INFO  org.apache.pig.data.SchemaTupleFrontend - Setting key [pig.schematuple.classes] with classes to deserialize []\n"
       ]
      },
      {
       "output_type": "stream",
       "stream": "stdout",
       "text": [
        "2014-10-03 20:03:13,685 [main] INFO  org.apache.pig.backend.hadoop.executionengine.mapReduceLayer.MapReduceLauncher - 1 map-reduce job(s) waiting for submission.\n"
       ]
      },
      {
       "output_type": "stream",
       "stream": "stdout",
       "text": [
        "2014-10-03 20:03:13,687 [main] INFO  org.apache.hadoop.conf.Configuration.deprecation - mapred.job.tracker.http.address is deprecated. Instead, use mapreduce.jobtracker.http.address\n"
       ]
      },
      {
       "output_type": "stream",
       "stream": "stdout",
       "text": [
        "2014-10-03 20:03:13,893 [JobControl] INFO  org.apache.hadoop.yarn.client.api.impl.TimelineClientImpl - Timeline service address: http://ds-demo02.cloud.hortonworks.com:8188/ws/v1/timeline/\n"
       ]
      },
      {
       "output_type": "stream",
       "stream": "stdout",
       "text": [
        "2014-10-03 20:03:13,896 [JobControl] INFO  org.apache.hadoop.yarn.client.RMProxy - Connecting to ResourceManager at ds-demo02.cloud.hortonworks.com/172.24.68.81:8050\n"
       ]
      },
      {
       "output_type": "stream",
       "stream": "stdout",
       "text": [
        "2014-10-03 20:03:13,924 [JobControl] INFO  org.apache.hadoop.conf.Configuration.deprecation - fs.default.name is deprecated. Instead, use fs.defaultFS\n"
       ]
      },
      {
       "output_type": "stream",
       "stream": "stdout",
       "text": [
        "2014-10-03 20:03:15,363 [JobControl] INFO  org.apache.hadoop.mapreduce.lib.input.FileInputFormat - Total input paths to process : 1\n"
       ]
      },
      {
       "output_type": "stream",
       "stream": "stdout",
       "text": [
        "2014-10-03 20:03:15,364 [JobControl] INFO  org.apache.pig.backend.hadoop.executionengine.util.MapRedUtil - Total input paths to process : 1\n"
       ]
      },
      {
       "output_type": "stream",
       "stream": "stdout",
       "text": [
        "2014-10-03 20:03:15,560 [JobControl] INFO  org.apache.pig.backend.hadoop.executionengine.util.MapRedUtil - Total input paths (combined) to process : 6\n"
       ]
      },
      {
       "output_type": "stream",
       "stream": "stdout",
       "text": [
        "2014-10-03 20:03:15,897 [JobControl] INFO  org.apache.hadoop.mapreduce.JobSubmitter - number of splits:6\n"
       ]
      },
      {
       "output_type": "stream",
       "stream": "stdout",
       "text": [
        "2014-10-03 20:03:16,291 [JobControl] INFO  org.apache.hadoop.mapreduce.JobSubmitter - Submitting tokens for job: job_1411175080514_0261\n"
       ]
      },
      {
       "output_type": "stream",
       "stream": "stdout",
       "text": [
        "2014-10-03 20:03:16,483 [JobControl] WARN  org.apache.hadoop.mapreduce.v2.util.MRApps - cache file (mapreduce.job.cache.files) hdfs://ds-demo01.cloud.hortonworks.com:8020/tmp/temp-845321013/tmp1658336350/jython-standalone-2.5.3.jar conflicts with cache file (mapreduce.job.cache.files) hdfs://ds-demo01.cloud.hortonworks.com:8020/tmp/temp-845321013/tmp944492188/jython-standalone-2.5.3.jar This will be an error in Hadoop 2.0\n"
       ]
      },
      {
       "output_type": "stream",
       "stream": "stdout",
       "text": [
        "2014-10-03 20:03:16,536 [JobControl] INFO  org.apache.hadoop.yarn.client.api.impl.YarnClientImpl - Submitted application application_1411175080514_0261\n"
       ]
      },
      {
       "output_type": "stream",
       "stream": "stdout",
       "text": [
        "2014-10-03 20:03:16,582 [JobControl] INFO  org.apache.hadoop.mapreduce.Job - The url to track the job: http://ds-demo02.cloud.hortonworks.com:8088/proxy/application_1411175080514_0261/\n"
       ]
      },
      {
       "output_type": "stream",
       "stream": "stdout",
       "text": [
        "2014-10-03 20:03:16,583 [main] INFO  org.apache.pig.backend.hadoop.executionengine.mapReduceLayer.MapReduceLauncher - HadoopJobId: job_1411175080514_0261\n"
       ]
      },
      {
       "output_type": "stream",
       "stream": "stdout",
       "text": [
        "2014-10-03 20:03:16,584 [main] INFO  org.apache.pig.backend.hadoop.executionengine.mapReduceLayer.MapReduceLauncher - Processing aliases ORD_2007,macro_preprocess_airline2_0,macro_preprocess_airline_0,macro_preprocess_airline_flt_0\n"
       ]
      },
      {
       "output_type": "stream",
       "stream": "stdout",
       "text": [
        "2014-10-03 20:03:16,584 [main] INFO  org.apache.pig.backend.hadoop.executionengine.mapReduceLayer.MapReduceLauncher - detailed locations: M: macro_preprocess_airline_0[4,18],macro_preprocess_airline_0[-1,-1],macro_preprocess_airline_flt_0[12,22],macro_preprocess_airline2_0[15,19],ORD_2007[20,19] C:  R: \n"
       ]
      },
      {
       "output_type": "stream",
       "stream": "stdout",
       "text": [
        "2014-10-03 20:03:16,634 [main] INFO  org.apache.pig.backend.hadoop.executionengine.mapReduceLayer.MapReduceLauncher - 0% complete\n"
       ]
      },
      {
       "output_type": "stream",
       "stream": "stdout",
       "text": [
        "2014-10-03 20:03:55,739 [main] INFO  org.apache.pig.backend.hadoop.executionengine.mapReduceLayer.MapReduceLauncher - 4% complete\n"
       ]
      },
      {
       "output_type": "stream",
       "stream": "stdout",
       "text": [
        "2014-10-03 20:04:07,460 [main] INFO  org.apache.pig.backend.hadoop.executionengine.mapReduceLayer.MapReduceLauncher - 8% complete\n"
       ]
      },
      {
       "output_type": "stream",
       "stream": "stdout",
       "text": [
        "2014-10-03 20:04:11,725 [main] INFO  org.apache.pig.backend.hadoop.executionengine.mapReduceLayer.MapReduceLauncher - 14% complete\n"
       ]
      },
      {
       "output_type": "stream",
       "stream": "stdout",
       "text": [
        "2014-10-03 20:04:14,903 [main] INFO  org.apache.pig.backend.hadoop.executionengine.mapReduceLayer.MapReduceLauncher - 18% complete\n"
       ]
      },
      {
       "output_type": "stream",
       "stream": "stdout",
       "text": [
        "2014-10-03 20:04:20,784 [main] INFO  org.apache.pig.backend.hadoop.executionengine.mapReduceLayer.MapReduceLauncher - 23% complete\n"
       ]
      },
      {
       "output_type": "stream",
       "stream": "stdout",
       "text": [
        "2014-10-03 20:04:36,241 [main] INFO  org.apache.pig.backend.hadoop.executionengine.mapReduceLayer.MapReduceLauncher - 27% complete\n"
       ]
      },
      {
       "output_type": "stream",
       "stream": "stdout",
       "text": [
        "2014-10-03 20:04:45,834 [main] INFO  org.apache.pig.backend.hadoop.executionengine.mapReduceLayer.MapReduceLauncher - 32% complete\n"
       ]
      },
      {
       "output_type": "stream",
       "stream": "stdout",
       "text": [
        "2014-10-03 20:04:58,028 [main] INFO  org.apache.pig.backend.hadoop.executionengine.mapReduceLayer.MapReduceLauncher - 37% complete\n"
       ]
      },
      {
       "output_type": "stream",
       "stream": "stdout",
       "text": [
        "2014-10-03 20:05:07,049 [main] INFO  org.apache.pig.backend.hadoop.executionengine.mapReduceLayer.MapReduceLauncher - 42% complete\n"
       ]
      },
      {
       "output_type": "stream",
       "stream": "stdout",
       "text": [
        "2014-10-03 20:05:19,809 [main] INFO  org.apache.pig.backend.hadoop.executionengine.mapReduceLayer.MapReduceLauncher - 49% complete\n"
       ]
      },
      {
       "output_type": "stream",
       "stream": "stdout",
       "text": [
        "2014-10-03 20:05:26,962 [main] INFO  org.apache.hadoop.conf.Configuration.deprecation - mapred.reduce.tasks is deprecated. Instead, use mapreduce.job.reduces\n"
       ]
      },
      {
       "output_type": "stream",
       "stream": "stdout",
       "text": [
        "2014-10-03 20:05:27,028 [main] INFO  org.apache.pig.backend.hadoop.executionengine.mapReduceLayer.MapReduceLauncher - 100% complete\n"
       ]
      },
      {
       "output_type": "stream",
       "stream": "stdout",
       "text": [
        "2014-10-03 20:05:27,031 [main] INFO  org.apache.pig.tools.pigstats.SimplePigStats - Script Statistics: \n"
       ]
      },
      {
       "output_type": "stream",
       "stream": "stdout",
       "text": [
        "\n"
       ]
      },
      {
       "output_type": "stream",
       "stream": "stdout",
       "text": [
        "HadoopVersion\tPigVersion\tUserId\tStartedAt\tFinishedAt\tFeatures\n"
       ]
      },
      {
       "output_type": "stream",
       "stream": "stdout",
       "text": [
        "2.4.0.2.1.5.0-695\t0.12.1.2.1.5.0-695\tofer\t2014-10-03 20:03:08\t2014-10-03 20:05:27\tFILTER\n"
       ]
      },
      {
       "output_type": "stream",
       "stream": "stdout",
       "text": [
        "\n"
       ]
      },
      {
       "output_type": "stream",
       "stream": "stdout",
       "text": [
        "Success!\n"
       ]
      },
      {
       "output_type": "stream",
       "stream": "stdout",
       "text": [
        "\n"
       ]
      },
      {
       "output_type": "stream",
       "stream": "stdout",
       "text": [
        "Job Stats (time in seconds):\n"
       ]
      },
      {
       "output_type": "stream",
       "stream": "stdout",
       "text": [
        "JobId\tMaps\tReduces\tMaxMapTime\tMinMapTIme\tAvgMapTime\tMedianMapTime\tMaxReduceTime\tMinReduceTime\tAvgReduceTime\tMedianReducetime\tAlias\tFeature\tOutputs\n"
       ]
      },
      {
       "output_type": "stream",
       "stream": "stdout",
       "text": [
        "job_1411175080514_0261\t6\t0\t113\t45\t82\t84\tn/a\tn/a\tn/a\tn/a\tORD_2007,macro_preprocess_airline2_0,macro_preprocess_airline_0,macro_preprocess_airline_flt_0\tMAP_ONLY\thdfs://ds-demo01.cloud.hortonworks.com:8020/user/ofer/airline/fm/ord_2007_1,\n"
       ]
      },
      {
       "output_type": "stream",
       "stream": "stdout",
       "text": [
        "\n"
       ]
      },
      {
       "output_type": "stream",
       "stream": "stdout",
       "text": [
        "Input(s):\n"
       ]
      },
      {
       "output_type": "stream",
       "stream": "stdout",
       "text": [
        "Successfully read 7453216 records (703535923 bytes) from: \"hdfs://ds-demo01.cloud.hortonworks.com:8020/user/ofer/airline/delay/2007.csv\"\n"
       ]
      },
      {
       "output_type": "stream",
       "stream": "stdout",
       "text": [
        "\n"
       ]
      },
      {
       "output_type": "stream",
       "stream": "stdout",
       "text": [
        "Output(s):\n"
       ]
      },
      {
       "output_type": "stream",
       "stream": "stdout",
       "text": [
        "Successfully stored 359169 records (8347249 bytes) in: \"hdfs://ds-demo01.cloud.hortonworks.com:8020/user/ofer/airline/fm/ord_2007_1\"\n"
       ]
      },
      {
       "output_type": "stream",
       "stream": "stdout",
       "text": [
        "\n"
       ]
      },
      {
       "output_type": "stream",
       "stream": "stdout",
       "text": [
        "Counters:\n"
       ]
      },
      {
       "output_type": "stream",
       "stream": "stdout",
       "text": [
        "Total records written : 359169\n"
       ]
      },
      {
       "output_type": "stream",
       "stream": "stdout",
       "text": [
        "Total bytes written : 8347249\n"
       ]
      },
      {
       "output_type": "stream",
       "stream": "stdout",
       "text": [
        "Spillable Memory Manager spill count : 0\n"
       ]
      },
      {
       "output_type": "stream",
       "stream": "stdout",
       "text": [
        "Total bags proactively spilled: 0\n"
       ]
      },
      {
       "output_type": "stream",
       "stream": "stdout",
       "text": [
        "Total records proactively spilled: 0\n"
       ]
      },
      {
       "output_type": "stream",
       "stream": "stdout",
       "text": [
        "\n"
       ]
      },
      {
       "output_type": "stream",
       "stream": "stdout",
       "text": [
        "Job DAG:\n"
       ]
      },
      {
       "output_type": "stream",
       "stream": "stdout",
       "text": [
        "job_1411175080514_0261\n"
       ]
      },
      {
       "output_type": "stream",
       "stream": "stdout",
       "text": [
        "\n"
       ]
      },
      {
       "output_type": "stream",
       "stream": "stdout",
       "text": [
        "\n"
       ]
      },
      {
       "output_type": "stream",
       "stream": "stdout",
       "text": [
        "2014-10-03 20:05:27,187 [main] WARN  org.apache.pig.backend.hadoop.executionengine.mapReduceLayer.MapReduceLauncher - Encountered Warning FIELD_DISCARDED_TYPE_CONVERSION_FAILED 160755 time(s).\n"
       ]
      },
      {
       "output_type": "stream",
       "stream": "stdout",
       "text": [
        "2014-10-03 20:05:27,188 [main] INFO  org.apache.pig.backend.hadoop.executionengine.mapReduceLayer.MapReduceLauncher - Success!\n"
       ]
      },
      {
       "output_type": "stream",
       "stream": "stdout",
       "text": [
        "2014-10-03 20:05:27,246 [main] INFO  org.apache.hadoop.conf.Configuration.deprecation - fs.default.name is deprecated. Instead, use fs.defaultFS\n"
       ]
      },
      {
       "output_type": "stream",
       "stream": "stdout",
       "text": [
        "2014-10-03 20:05:28,009 [main] INFO  org.apache.pig.tools.grunt.GruntParser - Waited 0ms to delete file\n"
       ]
      },
      {
       "output_type": "stream",
       "stream": "stdout",
       "text": [
        "2014-10-03 20:05:28,787 [main] INFO  org.apache.pig.tools.pigstats.ScriptState - Pig features used in the script: FILTER\n"
       ]
      },
      {
       "output_type": "stream",
       "stream": "stdout",
       "text": [
        "2014-10-03 20:05:28,790 [main] INFO  org.apache.pig.newplan.logical.optimizer.LogicalPlanOptimizer - {RULES_ENABLED=[AddForEach, ColumnMapKeyPrune, GroupByConstParallelSetter, LimitOptimizer, LoadTypeCastInserter, MergeFilter, MergeForEach, NewPartitionFilterOptimizer, PartitionFilterOptimizer, PushDownForEachFlatten, PushUpFilter, SplitFilter, StreamTypeCastInserter], RULES_DISABLED=[FilterLogicExpressionSimplifier]}\n"
       ]
      },
      {
       "output_type": "stream",
       "stream": "stdout",
       "text": [
        "2014-10-03 20:05:28,799 [main] INFO  org.apache.pig.newplan.logical.rules.ColumnPruneVisitor - Columns pruned for macro_preprocess_airline_1: $5, $6, $7, $9, $10, $11, $12, $13, $14, $19, $20, $22, $23, $24, $25, $26, $27, $28\n"
       ]
      },
      {
       "output_type": "stream",
       "stream": "stdout",
       "text": [
        "2014-10-03 20:05:28,950 [main] INFO  org.apache.pig.backend.hadoop.executionengine.mapReduceLayer.MRCompiler - File concatenation threshold: 100 optimistic? false\n"
       ]
      },
      {
       "output_type": "stream",
       "stream": "stdout",
       "text": [
        "2014-10-03 20:05:28,954 [main] INFO  org.apache.pig.backend.hadoop.executionengine.mapReduceLayer.MultiQueryOptimizer - MR plan size before optimization: 1\n"
       ]
      },
      {
       "output_type": "stream",
       "stream": "stdout",
       "text": [
        "2014-10-03 20:05:28,955 [main] INFO  org.apache.pig.backend.hadoop.executionengine.mapReduceLayer.MultiQueryOptimizer - MR plan size after optimization: 1\n"
       ]
      },
      {
       "output_type": "stream",
       "stream": "stdout",
       "text": [
        "2014-10-03 20:05:29,128 [main] INFO  org.apache.hadoop.yarn.client.api.impl.TimelineClientImpl - Timeline service address: http://ds-demo02.cloud.hortonworks.com:8188/ws/v1/timeline/\n"
       ]
      },
      {
       "output_type": "stream",
       "stream": "stdout",
       "text": [
        "2014-10-03 20:05:29,130 [main] INFO  org.apache.hadoop.yarn.client.RMProxy - Connecting to ResourceManager at ds-demo02.cloud.hortonworks.com/172.24.68.81:8050\n"
       ]
      },
      {
       "output_type": "stream",
       "stream": "stdout",
       "text": [
        "2014-10-03 20:05:29,135 [main] INFO  org.apache.pig.tools.pigstats.ScriptState - Pig script settings are added to the job\n"
       ]
      },
      {
       "output_type": "stream",
       "stream": "stdout",
       "text": [
        "2014-10-03 20:05:29,140 [main] INFO  org.apache.pig.backend.hadoop.executionengine.mapReduceLayer.JobControlCompiler - mapred.job.reduce.markreset.buffer.percent is not set, set to default 0.3\n"
       ]
      },
      {
       "output_type": "stream",
       "stream": "stdout",
       "text": [
        "2014-10-03 20:05:30,890 [main] INFO  org.apache.pig.backend.hadoop.executionengine.mapReduceLayer.JobControlCompiler - creating jar file Job6153781676985323347.jar\n"
       ]
      },
      {
       "output_type": "stream",
       "stream": "stdout",
       "text": [
        "2014-10-03 20:05:35,166 [main] INFO  org.apache.pig.backend.hadoop.executionengine.mapReduceLayer.JobControlCompiler - jar file Job6153781676985323347.jar created\n"
       ]
      },
      {
       "output_type": "stream",
       "stream": "stdout",
       "text": [
        "2014-10-03 20:05:35,186 [main] INFO  org.apache.pig.backend.hadoop.executionengine.mapReduceLayer.JobControlCompiler - Setting up single store job\n"
       ]
      },
      {
       "output_type": "stream",
       "stream": "stdout",
       "text": [
        "2014-10-03 20:05:35,189 [main] INFO  org.apache.pig.data.SchemaTupleFrontend - Key [pig.schematuple] is false, will not generate code.\n"
       ]
      },
      {
       "output_type": "stream",
       "stream": "stdout",
       "text": [
        "2014-10-03 20:05:35,190 [main] INFO  org.apache.pig.data.SchemaTupleFrontend - Starting process to move generated code to distributed cache\n"
       ]
      },
      {
       "output_type": "stream",
       "stream": "stdout",
       "text": [
        "2014-10-03 20:05:35,190 [main] INFO  org.apache.pig.data.SchemaTupleFrontend - Setting key [pig.schematuple.classes] with classes to deserialize []\n"
       ]
      },
      {
       "output_type": "stream",
       "stream": "stdout",
       "text": [
        "2014-10-03 20:05:35,232 [main] INFO  org.apache.pig.backend.hadoop.executionengine.mapReduceLayer.MapReduceLauncher - 1 map-reduce job(s) waiting for submission.\n"
       ]
      },
      {
       "output_type": "stream",
       "stream": "stdout",
       "text": [
        "2014-10-03 20:05:35,390 [JobControl] INFO  org.apache.hadoop.yarn.client.api.impl.TimelineClientImpl - Timeline service address: http://ds-demo02.cloud.hortonworks.com:8188/ws/v1/timeline/\n"
       ]
      },
      {
       "output_type": "stream",
       "stream": "stdout",
       "text": [
        "2014-10-03 20:05:35,391 [JobControl] INFO  org.apache.hadoop.yarn.client.RMProxy - Connecting to ResourceManager at ds-demo02.cloud.hortonworks.com/172.24.68.81:8050\n"
       ]
      },
      {
       "output_type": "stream",
       "stream": "stdout",
       "text": [
        "2014-10-03 20:05:35,402 [JobControl] INFO  org.apache.hadoop.conf.Configuration.deprecation - fs.default.name is deprecated. Instead, use fs.defaultFS\n"
       ]
      },
      {
       "output_type": "stream",
       "stream": "stdout",
       "text": [
        "2014-10-03 20:05:35,624 [JobControl] INFO  org.apache.hadoop.mapreduce.lib.input.FileInputFormat - Total input paths to process : 1\n"
       ]
      },
      {
       "output_type": "stream",
       "stream": "stdout",
       "text": [
        "2014-10-03 20:05:35,626 [JobControl] INFO  org.apache.pig.backend.hadoop.executionengine.util.MapRedUtil - Total input paths to process : 1\n"
       ]
      },
      {
       "output_type": "stream",
       "stream": "stdout",
       "text": [
        "2014-10-03 20:05:35,630 [JobControl] INFO  org.apache.pig.backend.hadoop.executionengine.util.MapRedUtil - Total input paths (combined) to process : 6\n"
       ]
      },
      {
       "output_type": "stream",
       "stream": "stdout",
       "text": [
        "2014-10-03 20:05:35,823 [JobControl] INFO  org.apache.hadoop.mapreduce.JobSubmitter - number of splits:6\n"
       ]
      },
      {
       "output_type": "stream",
       "stream": "stdout",
       "text": [
        "2014-10-03 20:05:35,880 [JobControl] INFO  org.apache.hadoop.mapreduce.JobSubmitter - Submitting tokens for job: job_1411175080514_0262\n"
       ]
      },
      {
       "output_type": "stream",
       "stream": "stdout",
       "text": [
        "2014-10-03 20:05:35,902 [JobControl] WARN  org.apache.hadoop.mapreduce.v2.util.MRApps - cache file (mapreduce.job.cache.files) hdfs://ds-demo01.cloud.hortonworks.com:8020/tmp/temp-845321013/tmp-679757420/jython-standalone-2.5.3.jar conflicts with cache file (mapreduce.job.cache.files) hdfs://ds-demo01.cloud.hortonworks.com:8020/tmp/temp-845321013/tmp-1114373930/jython-standalone-2.5.3.jar This will be an error in Hadoop 2.0\n"
       ]
      },
      {
       "output_type": "stream",
       "stream": "stdout",
       "text": [
        "2014-10-03 20:05:35,911 [JobControl] INFO  org.apache.hadoop.yarn.client.api.impl.YarnClientImpl - Submitted application application_1411175080514_0262\n"
       ]
      },
      {
       "output_type": "stream",
       "stream": "stdout",
       "text": [
        "2014-10-03 20:05:35,914 [JobControl] INFO  org.apache.hadoop.mapreduce.Job - The url to track the job: http://ds-demo02.cloud.hortonworks.com:8088/proxy/application_1411175080514_0262/\n"
       ]
      },
      {
       "output_type": "stream",
       "stream": "stdout",
       "text": [
        "2014-10-03 20:05:35,915 [main] INFO  org.apache.pig.backend.hadoop.executionengine.mapReduceLayer.MapReduceLauncher - HadoopJobId: job_1411175080514_0262\n"
       ]
      },
      {
       "output_type": "stream",
       "stream": "stdout",
       "text": [
        "2014-10-03 20:05:35,915 [main] INFO  org.apache.pig.backend.hadoop.executionengine.mapReduceLayer.MapReduceLauncher - Processing aliases ORD_2008,macro_preprocess_airline2_1,macro_preprocess_airline_1,macro_preprocess_airline_flt_1\n"
       ]
      },
      {
       "output_type": "stream",
       "stream": "stdout",
       "text": [
        "2014-10-03 20:05:35,915 [main] INFO  org.apache.pig.backend.hadoop.executionengine.mapReduceLayer.MapReduceLauncher - detailed locations: M: macro_preprocess_airline_1[4,18],macro_preprocess_airline_1[-1,-1],macro_preprocess_airline_flt_1[12,22],macro_preprocess_airline2_1[15,19],ORD_2008[20,19] C:  R: \n"
       ]
      },
      {
       "output_type": "stream",
       "stream": "stdout",
       "text": [
        "2014-10-03 20:05:35,949 [main] INFO  org.apache.pig.backend.hadoop.executionengine.mapReduceLayer.MapReduceLauncher - 0% complete\n"
       ]
      },
      {
       "output_type": "stream",
       "stream": "stdout",
       "text": [
        "2014-10-03 20:06:13,770 [main] INFO  org.apache.pig.backend.hadoop.executionengine.mapReduceLayer.MapReduceLauncher - 4% complete\n"
       ]
      },
      {
       "output_type": "stream",
       "stream": "stdout",
       "text": [
        "2014-10-03 20:06:20,151 [main] INFO  org.apache.pig.backend.hadoop.executionengine.mapReduceLayer.MapReduceLauncher - 14% complete\n"
       ]
      },
      {
       "output_type": "stream",
       "stream": "stdout",
       "text": [
        "2014-10-03 20:06:22,810 [main] INFO  org.apache.pig.backend.hadoop.executionengine.mapReduceLayer.MapReduceLauncher - 19% complete\n"
       ]
      },
      {
       "output_type": "stream",
       "stream": "stdout",
       "text": [
        "2014-10-03 20:06:26,538 [main] INFO  org.apache.pig.backend.hadoop.executionengine.mapReduceLayer.MapReduceLauncher - 24% complete\n"
       ]
      },
      {
       "output_type": "stream",
       "stream": "stdout",
       "text": [
        "2014-10-03 20:06:32,408 [main] INFO  org.apache.pig.backend.hadoop.executionengine.mapReduceLayer.MapReduceLauncher - 30% complete\n"
       ]
      },
      {
       "output_type": "stream",
       "stream": "stdout",
       "text": [
        "2014-10-03 20:06:39,281 [main] INFO  org.apache.pig.backend.hadoop.executionengine.mapReduceLayer.MapReduceLauncher - 37% complete\n"
       ]
      },
      {
       "output_type": "stream",
       "stream": "stdout",
       "text": [
        "2014-10-03 20:06:45,126 [main] INFO  org.apache.pig.backend.hadoop.executionengine.mapReduceLayer.MapReduceLauncher - 45% complete\n"
       ]
      },
      {
       "output_type": "stream",
       "stream": "stdout",
       "text": [
        "2014-10-03 20:06:52,011 [main] INFO  org.apache.pig.backend.hadoop.executionengine.mapReduceLayer.MapReduceLauncher - 50% complete\n"
       ]
      },
      {
       "output_type": "stream",
       "stream": "stdout",
       "text": [
        "2014-10-03 20:06:56,473 [main] INFO  org.apache.pig.backend.hadoop.executionengine.mapReduceLayer.MapReduceLauncher - 100% complete\n"
       ]
      },
      {
       "output_type": "stream",
       "stream": "stdout",
       "text": [
        "2014-10-03 20:06:56,475 [main] INFO  org.apache.pig.tools.pigstats.SimplePigStats - Script Statistics: \n"
       ]
      },
      {
       "output_type": "stream",
       "stream": "stdout",
       "text": [
        "\n"
       ]
      },
      {
       "output_type": "stream",
       "stream": "stdout",
       "text": [
        "HadoopVersion\tPigVersion\tUserId\tStartedAt\tFinishedAt\tFeatures\n"
       ]
      },
      {
       "output_type": "stream",
       "stream": "stdout",
       "text": [
        "2.4.0.2.1.5.0-695\t0.12.1.2.1.5.0-695\tofer\t2014-10-03 20:05:29\t2014-10-03 20:06:56\tFILTER\n"
       ]
      },
      {
       "output_type": "stream",
       "stream": "stdout",
       "text": [
        "\n"
       ]
      },
      {
       "output_type": "stream",
       "stream": "stdout",
       "text": [
        "Success!\n"
       ]
      },
      {
       "output_type": "stream",
       "stream": "stdout",
       "text": [
        "\n"
       ]
      },
      {
       "output_type": "stream",
       "stream": "stdout",
       "text": [
        "Job Stats (time in seconds):\n"
       ]
      },
      {
       "output_type": "stream",
       "stream": "stdout",
       "text": [
        "JobId\tMaps\tReduces\tMaxMapTime\tMinMapTIme\tAvgMapTime\tMedianMapTime\tMaxReduceTime\tMinReduceTime\tAvgReduceTime\tMedianReducetime\tAlias\tFeature\tOutputs\n"
       ]
      },
      {
       "output_type": "stream",
       "stream": "stdout",
       "text": [
        "job_1411175080514_0262\t6\t0\t58\t28\t51\t54\tn/a\tn/a\tn/a\tn/a\tORD_2008,macro_preprocess_airline2_1,macro_preprocess_airline_1,macro_preprocess_airline_flt_1\tMAP_ONLY\thdfs://ds-demo01.cloud.hortonworks.com:8020/user/ofer/airline/fm/ord_2008_1,\n"
       ]
      },
      {
       "output_type": "stream",
       "stream": "stdout",
       "text": [
        "\n"
       ]
      },
      {
       "output_type": "stream",
       "stream": "stdout",
       "text": [
        "Input(s):\n"
       ]
      },
      {
       "output_type": "stream",
       "stream": "stdout",
       "text": [
        "Successfully read 7009729 records (690071074 bytes) from: \"hdfs://ds-demo01.cloud.hortonworks.com:8020/user/ofer/airline/delay/2008.csv\"\n"
       ]
      },
      {
       "output_type": "stream",
       "stream": "stdout",
       "text": [
        "\n"
       ]
      },
      {
       "output_type": "stream",
       "stream": "stdout",
       "text": [
        "Output(s):\n"
       ]
      },
      {
       "output_type": "stream",
       "stream": "stdout",
       "text": [
        "Successfully stored 335330 records (7792422 bytes) in: \"hdfs://ds-demo01.cloud.hortonworks.com:8020/user/ofer/airline/fm/ord_2008_1\"\n"
       ]
      },
      {
       "output_type": "stream",
       "stream": "stdout",
       "text": [
        "\n"
       ]
      },
      {
       "output_type": "stream",
       "stream": "stdout",
       "text": [
        "Counters:\n"
       ]
      },
      {
       "output_type": "stream",
       "stream": "stdout",
       "text": [
        "Total records written : 335330\n"
       ]
      },
      {
       "output_type": "stream",
       "stream": "stdout",
       "text": [
        "Total bytes written : 7792422\n"
       ]
      },
      {
       "output_type": "stream",
       "stream": "stdout",
       "text": [
        "Spillable Memory Manager spill count : 0\n"
       ]
      },
      {
       "output_type": "stream",
       "stream": "stdout",
       "text": [
        "Total bags proactively spilled: 0\n"
       ]
      },
      {
       "output_type": "stream",
       "stream": "stdout",
       "text": [
        "Total records proactively spilled: 0\n"
       ]
      },
      {
       "output_type": "stream",
       "stream": "stdout",
       "text": [
        "\n"
       ]
      },
      {
       "output_type": "stream",
       "stream": "stdout",
       "text": [
        "Job DAG:\n"
       ]
      },
      {
       "output_type": "stream",
       "stream": "stdout",
       "text": [
        "job_1411175080514_0262\n"
       ]
      },
      {
       "output_type": "stream",
       "stream": "stdout",
       "text": [
        "\n"
       ]
      },
      {
       "output_type": "stream",
       "stream": "stdout",
       "text": [
        "\n"
       ]
      },
      {
       "output_type": "stream",
       "stream": "stdout",
       "text": [
        "2014-10-03 20:06:56,604 [main] WARN  org.apache.pig.backend.hadoop.executionengine.mapReduceLayer.MapReduceLauncher - Encountered Warning FIELD_DISCARDED_TYPE_CONVERSION_FAILED 136253 time(s).\n"
       ]
      },
      {
       "output_type": "stream",
       "stream": "stdout",
       "text": [
        "2014-10-03 20:06:56,604 [main] INFO  org.apache.pig.backend.hadoop.executionengine.mapReduceLayer.MapReduceLauncher - Success!\n"
       ]
      }
     ],
     "prompt_number": 9
    },
    {
     "cell_type": "markdown",
     "metadata": {},
     "source": [
      "Let's look at the results with Hue - two files are generates: airline/fm/ord_2007_1 and airline/fm/ord_2008_1\n",
      "(the \"1\" indicates this is the first iteration; more on that below)"
     ]
    },
    {
     "cell_type": "markdown",
     "metadata": {},
     "source": [
      "PIG is great for pre-procesing raw data into a feature matrix, but it's not the only choice.\n",
      "We can use other tools such as HIVE, Cascading, Scalding or Spark for this type of pre-processing. "
     ]
    },
    {
     "cell_type": "heading",
     "level": 2,
     "metadata": {},
     "source": [
      "Modeling"
     ]
    },
    {
     "cell_type": "markdown",
     "metadata": {},
     "source": [
      "Now we have the files ord_2007_1 and ord_2008_1 under 'airline/fm' folder in HDFS. \n",
      "Let's read those files into Python, and prepare the training/testing datasets as Pandas DataFrame objects."
     ]
    },
    {
     "cell_type": "code",
     "collapsed": true,
     "input": [
      "# read files\n",
      "cols = ['delay', 'month', 'day', 'dow', 'hour', 'distance', 'bad_carrier', 'bad_dest', 'days_from_holiday']\n",
      "col_types = {'delay': int, 'month': int, 'day': int, 'dow': int, 'hour': int, 'distance': int, \n",
      "             'bad_carrier': int, 'bad_dest': int, 'days_from_holiday': int}\n",
      "\n",
      "data_2007 = read_csv_from_hdfs('airline/fm/ord_2007_1', cols, col_types)\n",
      "data_2008 = read_csv_from_hdfs('airline/fm/ord_2008_1', cols, col_types)\n",
      "\n",
      "# Create training set and test set\n",
      "cols.remove('delay')\n",
      "train_y = data_2007['delay'] >= 15\n",
      "train_x = data_2007[cols]\n",
      "test_y = data_2008['delay'] >= 15\n",
      "test_x = data_2008[cols]\n",
      "\n",
      "# Create scaled/normalized version of feature matrix, to be used in SGD models\n",
      "scaler = StandardScaler()\n",
      "scaler.fit(train_x)  \n",
      "train_x_sc = scaler.transform(train_x.copy())\n",
      "test_x_sc = scaler.transform(test_x.copy())\n",
      "\n",
      "print train_x.head(5)"
     ],
     "language": "python",
     "metadata": {},
     "outputs": [
      {
       "output_type": "stream",
       "stream": "stdout",
       "text": [
        "   month  day  dow  hour  distance  bad_carrier  bad_dest  days_from_holiday\n",
        "0      1   25    4    10       719            0         1                 10\n",
        "1      1   28    7    15       925            0         0                 13\n",
        "2      1   29    1    20       316            0         0                 14\n",
        "3      1   17    3    18       719            0         1                  2\n",
        "4      1   12    5    20       316            0         0                  3\n"
       ]
      }
     ],
     "prompt_number": 10
    },
    {
     "cell_type": "markdown",
     "metadata": {},
     "source": [
      "Now we build a logistic regression model and evaluate its performance on the testing dataset from 2008"
     ]
    },
    {
     "cell_type": "code",
     "collapsed": false,
     "input": [
      "%%time\n",
      "\n",
      "# Create logistic regression model with L2 regularization\n",
      "clf_lr = linear_model.LogisticRegression(penalty='l2', class_weight='auto')\n",
      "clf_lr.fit(train_x, train_y)\n",
      "\n",
      "# Predict output labels on test set\n",
      "pr = clf_lr.predict(test_x)\n",
      "\n",
      "# display evaluation metrics\n",
      "cm = confusion_matrix(test_y, pr)\n",
      "print(\"Confusion matrix\")\n",
      "print(cm)\n",
      "report_lr = precision_recall_fscore_support(list(test_y), list(pr), average='micro')\n",
      "print \"precision = %0.2f, recall = %0.2f, F1 = %0.2f\\n\" % \\\n",
      "        (report_lr[0], report_lr[1], report_lr[2])\n",
      "    \n",
      "print train_x.shape"
     ],
     "language": "python",
     "metadata": {},
     "outputs": [
      {
       "output_type": "stream",
       "stream": "stdout",
       "text": [
        "Confusion matrix\n",
        "[[149618  90276]\n",
        " [ 34570  60866]]\n",
        "precision = 0.40, recall = 0.64, F1 = 0.49\n"
       ]
      },
      {
       "output_type": "stream",
       "stream": "stdout",
       "text": [
        "\n",
        "(359169, 8)\n",
        "CPU times: user 9.97 s, sys: 122 ms, total: 10.1 s\n",
        "Wall time: 10.1 s\n"
       ]
      }
     ],
     "prompt_number": 11
    },
    {
     "cell_type": "markdown",
     "metadata": {},
     "source": [
      "Nice; we got some initial precision/recall numbers. Let's compare this to two other algorithms:\n",
      "- Logistic Regression with SGD (Stochastic Gradient Descent)\n",
      "- Random Forest"
     ]
    },
    {
     "cell_type": "code",
     "collapsed": false,
     "input": [
      "%%time\n",
      "\n",
      "# Create SGD Logistic regression classifier with 100 iterations\n",
      "# SGD is very sensitive to feature range, so using scaled (normalized) version of feature matrix\n",
      "clf_sgd = linear_model.SGDClassifier(loss='log', penalty='l2', n_iter=200, n_jobs=-1, class_weight='auto')\n",
      "clf_sgd.fit(train_x_sc, train_y)\n",
      "\n",
      "# Predict output labels on test set\n",
      "pr = clf_sgd.predict(test_x_sc)\n",
      "\n",
      "# display evaluation metrics\n",
      "cm = confusion_matrix(test_y, pr)\n",
      "print(\"Confusion matrix\")\n",
      "print(cm)\n",
      "report_sgd = precision_recall_fscore_support(list(test_y), list(pr), average='micro')\n",
      "print \"precision = %0.2f, recall = %0.2f, F1 = %0.2f\\n\" % \\\n",
      "        (report_sgd[0], report_sgd[1], report_sgd[2])"
     ],
     "language": "python",
     "metadata": {},
     "outputs": [
      {
       "output_type": "stream",
       "stream": "stdout",
       "text": [
        "Confusion matrix\n",
        "[[143052  96842]\n",
        " [ 39292  56144]]\n",
        "precision = 0.37, recall = 0.59, F1 = 0.45\n"
       ]
      },
      {
       "output_type": "stream",
       "stream": "stdout",
       "text": [
        "\n",
        "CPU times: user 8.36 s, sys: 13 ms, total: 8.37 s\n",
        "Wall time: 8.46 s\n"
       ]
      }
     ],
     "prompt_number": 12
    },
    {
     "cell_type": "code",
     "collapsed": false,
     "input": [
      "%%time\n",
      "\n",
      "# Create Random Forest classifier with 50 trees\n",
      "clf_rf = RandomForestClassifier(n_estimators=50, n_jobs=-1)\n",
      "clf_rf.fit(train_x, train_y)\n",
      "\n",
      "# Evaluate on test set\n",
      "pr = clf_rf.predict(test_x)\n",
      "\n",
      "# print results\n",
      "cm = confusion_matrix(test_y, pr)\n",
      "print(\"Confusion matrix\")\n",
      "print(cm)\n",
      "report_svm = precision_recall_fscore_support(list(test_y), list(pr), average='micro')\n",
      "print \"precision = %0.2f, recall = %0.2f, F1 = %0.2f\\n\" % \\\n",
      "        (report_svm[0], report_svm[1], report_svm[2])\n",
      "# Print feature importance, as detetmined by RF\n",
      "imp = pd.DataFrame({'name': train_x.columns, 'score': clf_rf.feature_importances_}).sort('score')\n",
      "print imp\n"
     ],
     "language": "python",
     "metadata": {},
     "outputs": [
      {
       "output_type": "stream",
       "stream": "stdout",
       "text": [
        "Confusion matrix\n",
        "[[204378  35516]\n",
        " [ 58557  36879]]\n",
        "precision = 0.51, recall = 0.39, F1 = 0.44\n"
       ]
      },
      {
       "output_type": "stream",
       "stream": "stdout",
       "text": [
        "\n",
        "                name     score\n",
        "6           bad_dest  0.008452\n",
        "5        bad_carrier  0.019521\n",
        "2                dow  0.043230\n",
        "0              month  0.064370\n",
        "7  days_from_holiday  0.075154\n",
        "1                day  0.086537\n",
        "3               hour  0.248196\n",
        "4           distance  0.454540"
       ]
      },
      {
       "output_type": "stream",
       "stream": "stdout",
       "text": [
        "\n",
        "CPU times: user 36.7 s, sys: 918 ms, total: 37.7 s\n",
        "Wall time: 12.7 s\n"
       ]
      }
     ],
     "prompt_number": 13
    },
    {
     "cell_type": "markdown",
     "metadata": {},
     "source": [
      "Note that the output of a Random Forest model also includes the relative importance of features. We see that in this model, distance is by-far the most important feature in the model, followed by hour of the day.\n",
      "\n",
      "When we compare the results, clearly the Random Forest gives the best results in this case."
     ]
    },
    {
     "cell_type": "heading",
     "level": 2,
     "metadata": {},
     "source": [
      "Modeling Iteration 2"
     ]
    },
    {
     "cell_type": "markdown",
     "metadata": {},
     "source": [
      "How can improve this model?\n",
      "\n",
      "One way that is to bring in more data - enrich our dataset.\n",
      "One idea in that direction is to layer-in weather data. We can get this data from a publicly available dataset here:  http://www.ncdc.noaa.gov/cdo-web/datasets/\n",
      "\n",
      "We will look at tempratures, wind speed, snow conditions and percipitation in the destination airport (ORD).\n",
      "Clearly, weather conditions in the destination airport also affect delays, but for simplicity of this demo we just include weather at the origin (ORD)."
     ]
    },
    {
     "cell_type": "markdown",
     "metadata": {},
     "source": [
      "Our 2nd PIG script preprocess2.pig, in a manner similar to preprocess1.pig, does all the data munging and preparation, merging these two datasets into a combined feature matrix at \"airline/fm/ord_2007_2\" and \"airline/fm/ord_2008_2\" in HDFS. "
     ]
    },
    {
     "cell_type": "code",
     "collapsed": false,
     "input": [
      "%%script pig --bg --err pig_out2\n",
      "\n",
      "register 'util.py' USING jython as util;\n",
      "\n",
      "-- Helper macro to load data and join into a feature vector per instance\n",
      "DEFINE preprocess(year_str, airport_code) returns data\n",
      "{\n",
      "    load airline data from specified year (need to specify fields since it's not in HCat)\n",
      "    airline = load 'airline/delay/$year_str.csv' using PigStorage(',') \n",
      "                    as (Year: int, Month: int, DayOfMonth: int, DayOfWeek: int, DepTime: chararray, CRSDepTime, ArrTime, \n",
      "                        CRSArrTime, Carrier: chararray, FlightNum, TailNum, ActualElapsedTime, CRSElapsedTime, AirTime, \n",
      "                        ArrDelay, DepDelay: int, Origin: chararray, Dest: chararray, Distance: int, TaxiIn, TaxiOut, \n",
      "                        Cancelled: int, CancellationCode, Diverted, CarrierDelay, WeatherDelay, NASDelay, \n",
      "                        SecurityDelay, LateAircraftDelay);\n",
      "\n",
      "    -- keep only instances where flight was not cancelled\n",
      "    airline_flt = filter airline by Cancelled == 0;\n",
      "\n",
      "    -- Keep only fields I need\n",
      "    airline2 = foreach airline_flt generate Year as year, Month as month, DayOfMonth as day, DayOfWeek as dow,\n",
      "                        Carrier as carrier, Origin as origin, Dest as dest, Distance as distance,\n",
      "                        DepTime as time, DepDelay as delay, util.to_date(Year, Month, DayOfMonth) as date;\n",
      "\n",
      "    -- load weather data\n",
      "    weather = load 'airline/weather/$year_str.csv' using PigStorage(',') \n",
      "                    as (station: chararray, date: chararray, metric, value, t1, t2, t3, time);\n",
      "\n",
      "    -- keep only TMIN and TMAX weather observations from ORD\n",
      "    weather_tmin = filter weather by station == 'USW00094846' and metric == 'TMIN';\n",
      "    weather_tmax = filter weather by station == 'USW00094846' and metric == 'TMAX';\n",
      "    weather_prcp = filter weather by station == 'USW00094846' and metric == 'PRCP';\n",
      "    weather_snow = filter weather by station == 'USW00094846' and metric == 'SNOW';\n",
      "    weather_awnd = filter weather by station == 'USW00094846' and metric == 'AWND';\n",
      "\n",
      "    joined = join airline2 by date, weather_tmin by date, weather_tmax by date, weather_prcp by date, \n",
      "                                    weather_snow by date, weather_awnd by date;\n",
      "    joined2 = filter joined by origin == '$airport_code';\n",
      "    $data = foreach joined2 generate delay, month, day, dow, util.get_hour(airline2::time) as tod, distance,\n",
      "                                     util.is_bad_carrier(carrier) as is_bad_carrier, util.is_bad_dest(dest) as is_bad_dest,\n",
      "                                     util.days_from_nearest_holiday(year, month, day) as hdays,\n",
      "                                     weather_tmin::value as temp_min, weather_tmax::value as temp_max,\n",
      "                                     weather_prcp::value as prcp, weather_snow::value as snow, weather_awnd::value as wind;\n",
      "};\n",
      "\n",
      "ORD_2007 = preprocess('2007', 'ORD');\n",
      "rmf airline/fm/ord_2007_2;\n",
      "store ORD_2007 into 'airline/fm/ord_2007_2' using PigStorage(',');\n",
      "\n",
      "ORD_2008 = preprocess('2008', 'ORD');\n",
      "rmf airline/fm/ord_2008_2;\n",
      "store ORD_2008 into 'airline/fm/ord_2008_2' using PigStorage(',');"
     ],
     "language": "python",
     "metadata": {},
     "outputs": [
      {
       "output_type": "stream",
       "stream": "stdout",
       "text": [
        "Starting job # 2 in a separate thread.\n"
       ]
      }
     ],
     "prompt_number": 14
    },
    {
     "cell_type": "code",
     "collapsed": false,
     "input": [
      "while True:\n",
      "    line = pig_out2.readline()\n",
      "    if not line:\n",
      "        break\n",
      "    sys.stdout.write(\"%s\" % line)\n",
      "    sys.stdout.flush()"
     ],
     "language": "python",
     "metadata": {},
     "outputs": [
      {
       "output_type": "stream",
       "stream": "stdout",
       "text": [
        "2014-10-03 20:07:32,452 [main] INFO  org.apache.pig.Main - Apache Pig version 0.12.1.2.1.5.0-695 (rexported) compiled Aug 27 2014, 23:56:19\n"
       ]
      },
      {
       "output_type": "stream",
       "stream": "stdout",
       "text": [
        "2014-10-03 20:07:32,454 [main] INFO  org.apache.pig.Main - Logging error messages to: /home/ofer/airline-demo/pig_1412392052450.log\n"
       ]
      },
      {
       "output_type": "stream",
       "stream": "stdout",
       "text": [
        "2014-10-03 20:07:32,487 [main] INFO  org.apache.pig.impl.util.Utils - Default bootup file /home/ofer/.pigbootup not found\n"
       ]
      },
      {
       "output_type": "stream",
       "stream": "stdout",
       "text": [
        "2014-10-03 20:07:33,057 [main] INFO  org.apache.hadoop.conf.Configuration.deprecation - mapred.job.tracker is deprecated. Instead, use mapreduce.jobtracker.address\n"
       ]
      },
      {
       "output_type": "stream",
       "stream": "stdout",
       "text": [
        "2014-10-03 20:07:33,058 [main] INFO  org.apache.hadoop.conf.Configuration.deprecation - fs.default.name is deprecated. Instead, use fs.defaultFS\n"
       ]
      },
      {
       "output_type": "stream",
       "stream": "stdout",
       "text": [
        "2014-10-03 20:07:33,059 [main] INFO  org.apache.pig.backend.hadoop.executionengine.HExecutionEngine - Connecting to hadoop file system at: hdfs://ds-demo01.cloud.hortonworks.com:8020\n"
       ]
      },
      {
       "output_type": "stream",
       "stream": "stdout",
       "text": [
        "2014-10-03 20:07:34,031 [main] INFO  org.apache.hadoop.conf.Configuration.deprecation - fs.default.name is deprecated. Instead, use fs.defaultFS\n"
       ]
      },
      {
       "output_type": "stream",
       "stream": "stdout",
       "text": [
        "2014-10-03 20:07:34,143 [main] INFO  org.apache.hadoop.conf.Configuration.deprecation - fs.default.name is deprecated. Instead, use fs.defaultFS\n"
       ]
      },
      {
       "output_type": "stream",
       "stream": "stdout",
       "text": [
        "2014-10-03 20:07:34,171 [main] INFO  org.apache.pig.scripting.jython.JythonScriptEngine - created tmp python.cachedir=/tmp/pig_jython_3214253514133222940\n"
       ]
      },
      {
       "output_type": "stream",
       "stream": "stdout",
       "text": [
        "2014-10-03 20:07:35,792 [main] WARN  org.apache.pig.scripting.jython.JythonScriptEngine - pig.cmd.args.remainders is empty. This is not expected unless on testing.\n"
       ]
      },
      {
       "output_type": "stream",
       "stream": "stdout",
       "text": [
        "2014-10-03 20:07:37,779 [main] INFO  org.apache.pig.scripting.jython.JythonScriptEngine - Register scripting UDF: util.get_hour\n"
       ]
      },
      {
       "output_type": "stream",
       "stream": "stdout",
       "text": [
        "2014-10-03 20:07:37,783 [main] INFO  org.apache.pig.scripting.jython.JythonScriptEngine - Register scripting UDF: util.to_date\n"
       ]
      },
      {
       "output_type": "stream",
       "stream": "stdout",
       "text": [
        "2014-10-03 20:07:37,786 [main] INFO  org.apache.pig.scripting.jython.JythonScriptEngine - Register scripting UDF: util.is_bad_carrier\n"
       ]
      },
      {
       "output_type": "stream",
       "stream": "stdout",
       "text": [
        "2014-10-03 20:07:37,789 [main] INFO  org.apache.pig.scripting.jython.JythonScriptEngine - Register scripting UDF: util.is_bad_dest\n"
       ]
      },
      {
       "output_type": "stream",
       "stream": "stdout",
       "text": [
        "2014-10-03 20:07:37,793 [main] INFO  org.apache.pig.scripting.jython.JythonScriptEngine - Register scripting UDF: util.days_from_nearest_holiday\n"
       ]
      },
      {
       "output_type": "stream",
       "stream": "stdout",
       "text": [
        "2014-10-03 20:07:37,882 [main] ERROR org.apache.pig.tools.grunt.Grunt - ERROR 1000: Error during parsing. Lexical error at line 51, column 0.  Encountered: <EOF> after : \"\"\n"
       ]
      },
      {
       "output_type": "stream",
       "stream": "stdout",
       "text": [
        "Details at logfile: /home/ofer/airline-demo/pig_1412392052450.log\n"
       ]
      }
     ],
     "prompt_number": 15
    },
    {
     "cell_type": "markdown",
     "metadata": {},
     "source": [
      "We now read this data in, convert temparatures to Fahrenheit (note original temp is in Celcius*10), and prepare the training and testing datasets. "
     ]
    },
    {
     "cell_type": "code",
     "collapsed": false,
     "input": [
      "# Convert Celcius to Fahrenheit\n",
      "def fahrenheit(x): return(x*1.8 + 32.0)\n",
      "\n",
      "# read files\n",
      "cols = ['delay', 'month', 'day', 'dow', 'hour', 'distance', 'bad_carrier', 'bad_dest', 'days_from_holiday',\n",
      "        'origin_tmin', 'origin_tmax', 'origin_prcp', 'origin_snow', 'origin_wind']\n",
      "col_types = {'delay': int, 'month': int, 'day': int, 'dow': int, 'hour': int, 'distance': int, \n",
      "             'bad_carrier': int, 'bad_dest': int, 'days_from_holiday': int,\n",
      "             'origin_tmin': float, 'origin_tmax': float, 'origin_prcp': float, 'origin_snow': float, 'origin_wind': float}\n",
      "\n",
      "data_2007 = read_csv_from_hdfs('airline/fm/ord_2007_2', cols, col_types)\n",
      "data_2008 = read_csv_from_hdfs('airline/fm/ord_2008_2', cols, col_types)\n",
      "\n",
      "data_2007['origin_tmin'] = data_2007['origin_tmin'].apply(lambda x: fahrenheit(x/10.0))\n",
      "data_2007['origin_tmax'] = data_2007['origin_tmax'].apply(lambda x: fahrenheit(x/10.0))\n",
      "data_2008['origin_tmin'] = data_2008['origin_tmin'].apply(lambda x: fahrenheit(x/10.0))\n",
      "data_2008['origin_tmax'] = data_2008['origin_tmax'].apply(lambda x: fahrenheit(x/10.0))\n",
      "\n",
      "cols.remove('delay')\n",
      "train_y = data_2007['delay'] >= 15\n",
      "train_x = data_2007[cols]\n",
      "test_y = data_2008['delay'] >= 15\n",
      "test_x = data_2008[cols]\n",
      "\n",
      "#train_x = pd.concat([train_x, pd.get_dummies(train_x['hour'], prefix='hour')], axis=1)\n",
      "#test_x = pd.concat([test_x, pd.get_dummies(test_x['hour'], prefix='hour')], axis=1)\n",
      "\n",
      "print train_x.head(5)\n",
      "data_2007.shape"
     ],
     "language": "python",
     "metadata": {},
     "outputs": [
      {
       "output_type": "stream",
       "stream": "stdout",
       "text": [
        "   month  day  dow  hour  distance  bad_carrier  bad_dest  days_from_holiday  \\\n",
        "0      1    3    3    10       491            0         0                  2   \n",
        "1      1    3    3    13       590            1         0                  2   \n",
        "2      1    3    3     9       802            1         1                  2   \n",
        "3      1    3    3    13       215            1         0                  2   \n",
        "4      1    3    3     6       528            0         0                  2   \n",
        "\n",
        "   origin_tmin  origin_tmax  origin_prcp  origin_snow  origin_wind  \n",
        "0        33.08        48.02            0            0           70  \n",
        "1        33.08        48.02            0            0           70  \n",
        "2        33.08        48.02            0            0           70  \n",
        "3        33.08        48.02            0            0           70  \n",
        "4        33.08        48.02            0            0           70  \n"
       ]
      },
      {
       "metadata": {},
       "output_type": "pyout",
       "prompt_number": 16,
       "text": [
        "(359169, 14)"
       ]
      }
     ],
     "prompt_number": 16
    },
    {
     "cell_type": "markdown",
     "metadata": {},
     "source": [
      "So let's try Random Forest now with the new features"
     ]
    },
    {
     "cell_type": "code",
     "collapsed": false,
     "input": [
      "%%time\n",
      "# Create Random Forest classifier with 50 trees\n",
      "clf_rf = RandomForestClassifier(n_estimators=50, max_features=None, n_jobs=-1)\n",
      "clf_rf.fit(train_x, train_y)\n",
      "\n",
      "# Evaluate on test set\n",
      "pr = clf_rf.predict(test_x)\n",
      "\n",
      "# print results\n",
      "cm = confusion_matrix(test_y, pr)\n",
      "print(\"Confusion matrix\")\n",
      "print(cm)\n",
      "report_rf = precision_recall_fscore_support(list(test_y), list(pr), average='micro')\n",
      "print \"precision = %0.2f, recall = %0.2f, F1 = %0.2f\\n\" % \\\n",
      "        (report_rf[0], report_rf[1], report_rf[2])\n",
      "    \n",
      "# Print feature importance, as detetmined by RF\n",
      "imp = pd.DataFrame({'name': train_x.columns, 'score': clf_rf.feature_importances_}).sort('score')\n",
      "print imp\n"
     ],
     "language": "python",
     "metadata": {},
     "outputs": [
      {
       "output_type": "stream",
       "stream": "stdout",
       "text": [
        "Confusion matrix\n",
        "[[207792  32102]\n",
        " [ 51784  43652]]\n",
        "precision = 0.58, recall = 0.46, F1 = 0.51\n"
       ]
      },
      {
       "output_type": "stream",
       "stream": "stdout",
       "text": [
        "\n",
        "                 name     score\n",
        "11        origin_snow  0.012661\n",
        "6            bad_dest  0.014054\n",
        "0               month  0.021816\n",
        "2                 dow  0.026589\n",
        "7   days_from_holiday  0.038122\n",
        "8         origin_tmin  0.039537\n",
        "1                 day  0.041822\n",
        "5         bad_carrier  0.043007\n",
        "9         origin_tmax  0.050364\n",
        "12        origin_wind  0.051428\n",
        "10        origin_prcp  0.053800\n",
        "3                hour  0.219591\n",
        "4            distance  0.387208"
       ]
      },
      {
       "output_type": "stream",
       "stream": "stdout",
       "text": [
        "\n",
        "CPU times: user 2min 29s, sys: 1.18 s, total: 2min 30s\n",
        "Wall time: 44.3 s\n"
       ]
      }
     ],
     "prompt_number": 17
    },
    {
     "cell_type": "markdown",
     "metadata": {},
     "source": [
      "As we can see, average precision/recall went up from 0.50/0.39 to 0.57/0.46\n",
      "We can also see that the weather data has non-trivial importance in the Random Forest model importance scores, but not as much as we had hoped.\n",
      "\n",
      "Clearly with more time, new data, and improved features, we are likely to improve this model's performance, but such improvements are outside the scope of this demo."
     ]
    },
    {
     "cell_type": "code",
     "collapsed": false,
     "input": [],
     "language": "python",
     "metadata": {},
     "outputs": []
    }
   ],
   "metadata": {}
  }
 ]
}